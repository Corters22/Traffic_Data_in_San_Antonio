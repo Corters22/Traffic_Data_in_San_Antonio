{
 "cells": [
  {
   "cell_type": "code",
   "execution_count": 1,
   "metadata": {},
   "outputs": [],
   "source": [
    "import pandas as pd\n",
    "import matplotlib.pyplot as plt\n",
    "import gmaps\n",
    "import requests\n",
    "import scipy.stats as stats\n",
    "from api_key import g_key, c_key\n",
    "from census import Census\n",
    "\n",
    "# Census API Key\n",
    "#from api_key import c_key\n",
    "c = Census(c_key, year=2018)"
   ]
  },
  {
   "cell_type": "markdown",
   "metadata": {},
   "source": [
    "# Comparison of Number of Traffic Accidents in San Antonio, based on location\n",
    "The question: Where is the best place to drive with the lowest risk of getting in an accident?\n",
    "\n",
    "The Hypothesis: The areas with a higher population will have more accidents."
   ]
  },
  {
   "cell_type": "markdown",
   "metadata": {},
   "source": [
    "## Dataset: US Accidents (4.2 million records)\n",
    "Source:https://www.kaggle.com/sobhanmoosavi/us-accidents\n",
    "\n",
    "Description: Reported accidents over US from 2016-Dec 2020, includes location of accident, date of the occurrence, weather at time of the accident, and other variables."
   ]
  },
  {
   "cell_type": "markdown",
   "metadata": {},
   "source": [
    "## Cleaned CSV: cleaned_2018_texas_accidents.csv\n",
    "Data Extrapolated: Accidents that occurred in Texas in 2018, including the weather, location and time of occurrence.\n",
    "\n",
    "Refer to cleaning_csv.ipynb"
   ]
  },
  {
   "cell_type": "code",
   "execution_count": 2,
   "metadata": {
    "scrolled": true
   },
   "outputs": [
    {
     "data": {
      "text/html": [
       "<div>\n",
       "<style scoped>\n",
       "    .dataframe tbody tr th:only-of-type {\n",
       "        vertical-align: middle;\n",
       "    }\n",
       "\n",
       "    .dataframe tbody tr th {\n",
       "        vertical-align: top;\n",
       "    }\n",
       "\n",
       "    .dataframe thead th {\n",
       "        text-align: right;\n",
       "    }\n",
       "</style>\n",
       "<table border=\"1\" class=\"dataframe\">\n",
       "  <thead>\n",
       "    <tr style=\"text-align: right;\">\n",
       "      <th></th>\n",
       "      <th>Unnamed: 0</th>\n",
       "      <th>Time</th>\n",
       "      <th>Latitude</th>\n",
       "      <th>Longitude</th>\n",
       "      <th>City</th>\n",
       "      <th>County</th>\n",
       "      <th>State</th>\n",
       "      <th>Zipcode</th>\n",
       "      <th>Temperature(F)</th>\n",
       "      <th>Humidity(%)</th>\n",
       "      <th>Pressure(in)</th>\n",
       "      <th>Visibility(mi)</th>\n",
       "      <th>Wind_Speed(mph)</th>\n",
       "      <th>Precipitation(in)</th>\n",
       "      <th>Weather_Condition</th>\n",
       "      <th>Year</th>\n",
       "      <th>Month</th>\n",
       "      <th>Day</th>\n",
       "    </tr>\n",
       "  </thead>\n",
       "  <tbody>\n",
       "    <tr>\n",
       "      <th>5470</th>\n",
       "      <td>262749</td>\n",
       "      <td>2018-02-21 10:49:54</td>\n",
       "      <td>31.371149</td>\n",
       "      <td>-94.722473</td>\n",
       "      <td>Lufkin</td>\n",
       "      <td>Angelina</td>\n",
       "      <td>TX</td>\n",
       "      <td>75904-1233</td>\n",
       "      <td>55.9</td>\n",
       "      <td>100.0</td>\n",
       "      <td>30.14</td>\n",
       "      <td>4.0</td>\n",
       "      <td>9.2</td>\n",
       "      <td>0.13</td>\n",
       "      <td>Light Rain</td>\n",
       "      <td>2018</td>\n",
       "      <td>2</td>\n",
       "      <td>21</td>\n",
       "    </tr>\n",
       "    <tr>\n",
       "      <th>415</th>\n",
       "      <td>199498</td>\n",
       "      <td>2018-12-14 06:58:49</td>\n",
       "      <td>31.129475</td>\n",
       "      <td>-94.318848</td>\n",
       "      <td>Zavalla</td>\n",
       "      <td>Angelina</td>\n",
       "      <td>TX</td>\n",
       "      <td>75980</td>\n",
       "      <td>43.0</td>\n",
       "      <td>97.0</td>\n",
       "      <td>29.78</td>\n",
       "      <td>10.0</td>\n",
       "      <td>6.9</td>\n",
       "      <td>0.00</td>\n",
       "      <td>Overcast</td>\n",
       "      <td>2018</td>\n",
       "      <td>12</td>\n",
       "      <td>14</td>\n",
       "    </tr>\n",
       "    <tr>\n",
       "      <th>2192</th>\n",
       "      <td>214086</td>\n",
       "      <td>2018-10-24 07:57:14</td>\n",
       "      <td>30.175158</td>\n",
       "      <td>-97.527016</td>\n",
       "      <td>Cedar Creek</td>\n",
       "      <td>Bastrop</td>\n",
       "      <td>TX</td>\n",
       "      <td>78612</td>\n",
       "      <td>57.9</td>\n",
       "      <td>93.0</td>\n",
       "      <td>30.03</td>\n",
       "      <td>10.0</td>\n",
       "      <td>9.2</td>\n",
       "      <td>0.00</td>\n",
       "      <td>Light Rain</td>\n",
       "      <td>2018</td>\n",
       "      <td>10</td>\n",
       "      <td>24</td>\n",
       "    </tr>\n",
       "    <tr>\n",
       "      <th>1767</th>\n",
       "      <td>212533</td>\n",
       "      <td>2018-10-16 12:51:16</td>\n",
       "      <td>30.319321</td>\n",
       "      <td>-97.443939</td>\n",
       "      <td>Elgin</td>\n",
       "      <td>Bastrop</td>\n",
       "      <td>TX</td>\n",
       "      <td>78621-4147</td>\n",
       "      <td>46.4</td>\n",
       "      <td>100.0</td>\n",
       "      <td>30.20</td>\n",
       "      <td>3.0</td>\n",
       "      <td>15.0</td>\n",
       "      <td>0.02</td>\n",
       "      <td>Light Rain</td>\n",
       "      <td>2018</td>\n",
       "      <td>10</td>\n",
       "      <td>16</td>\n",
       "    </tr>\n",
       "    <tr>\n",
       "      <th>2225</th>\n",
       "      <td>214143</td>\n",
       "      <td>2018-10-24 16:49:49</td>\n",
       "      <td>31.101995</td>\n",
       "      <td>-97.359596</td>\n",
       "      <td>Temple</td>\n",
       "      <td>Bell</td>\n",
       "      <td>TX</td>\n",
       "      <td>76504</td>\n",
       "      <td>60.1</td>\n",
       "      <td>100.0</td>\n",
       "      <td>30.01</td>\n",
       "      <td>4.0</td>\n",
       "      <td>9.2</td>\n",
       "      <td>0.29</td>\n",
       "      <td>Light Rain</td>\n",
       "      <td>2018</td>\n",
       "      <td>10</td>\n",
       "      <td>24</td>\n",
       "    </tr>\n",
       "  </tbody>\n",
       "</table>\n",
       "</div>"
      ],
      "text/plain": [
       "      Unnamed: 0                 Time   Latitude  Longitude         City  \\\n",
       "5470      262749  2018-02-21 10:49:54  31.371149 -94.722473       Lufkin   \n",
       "415       199498  2018-12-14 06:58:49  31.129475 -94.318848      Zavalla   \n",
       "2192      214086  2018-10-24 07:57:14  30.175158 -97.527016  Cedar Creek   \n",
       "1767      212533  2018-10-16 12:51:16  30.319321 -97.443939        Elgin   \n",
       "2225      214143  2018-10-24 16:49:49  31.101995 -97.359596       Temple   \n",
       "\n",
       "        County State     Zipcode  Temperature(F)  Humidity(%)  Pressure(in)  \\\n",
       "5470  Angelina    TX  75904-1233            55.9        100.0         30.14   \n",
       "415   Angelina    TX       75980            43.0         97.0         29.78   \n",
       "2192   Bastrop    TX       78612            57.9         93.0         30.03   \n",
       "1767   Bastrop    TX  78621-4147            46.4        100.0         30.20   \n",
       "2225      Bell    TX       76504            60.1        100.0         30.01   \n",
       "\n",
       "      Visibility(mi)  Wind_Speed(mph)  Precipitation(in) Weather_Condition  \\\n",
       "5470             4.0              9.2               0.13        Light Rain   \n",
       "415             10.0              6.9               0.00          Overcast   \n",
       "2192            10.0              9.2               0.00        Light Rain   \n",
       "1767             3.0             15.0               0.02        Light Rain   \n",
       "2225             4.0              9.2               0.29        Light Rain   \n",
       "\n",
       "      Year  Month  Day  \n",
       "5470  2018      2   21  \n",
       "415   2018     12   14  \n",
       "2192  2018     10   24  \n",
       "1767  2018     10   16  \n",
       "2225  2018     10   24  "
      ]
     },
     "execution_count": 2,
     "metadata": {},
     "output_type": "execute_result"
    }
   ],
   "source": [
    "csv_read = pd.read_csv(\"../cleaned_2018_texas_accidents.csv\")\n",
    "texas_accidents_df = pd.DataFrame(csv_read)\n",
    "texas_accidents_df = texas_accidents_df.sort_values(\"County\")\n",
    "texas_accidents_df.head()"
   ]
  },
  {
   "cell_type": "code",
   "execution_count": 3,
   "metadata": {
    "scrolled": true
   },
   "outputs": [
    {
     "data": {
      "text/html": [
       "<div>\n",
       "<style scoped>\n",
       "    .dataframe tbody tr th:only-of-type {\n",
       "        vertical-align: middle;\n",
       "    }\n",
       "\n",
       "    .dataframe tbody tr th {\n",
       "        vertical-align: top;\n",
       "    }\n",
       "\n",
       "    .dataframe thead th {\n",
       "        text-align: right;\n",
       "    }\n",
       "</style>\n",
       "<table border=\"1\" class=\"dataframe\">\n",
       "  <thead>\n",
       "    <tr style=\"text-align: right;\">\n",
       "      <th></th>\n",
       "      <th>Time</th>\n",
       "      <th>Latitude</th>\n",
       "      <th>Longitude</th>\n",
       "      <th>City</th>\n",
       "      <th>County</th>\n",
       "      <th>State</th>\n",
       "      <th>Zipcode</th>\n",
       "    </tr>\n",
       "  </thead>\n",
       "  <tbody>\n",
       "    <tr>\n",
       "      <th>0</th>\n",
       "      <td>2018-09-09 06:35:35</td>\n",
       "      <td>29.489286</td>\n",
       "      <td>-98.567596</td>\n",
       "      <td>San Antonio</td>\n",
       "      <td>Bexar</td>\n",
       "      <td>TX</td>\n",
       "      <td>78229</td>\n",
       "    </tr>\n",
       "    <tr>\n",
       "      <th>1</th>\n",
       "      <td>2018-09-09 06:34:37</td>\n",
       "      <td>29.408224</td>\n",
       "      <td>-98.509232</td>\n",
       "      <td>San Antonio</td>\n",
       "      <td>Bexar</td>\n",
       "      <td>TX</td>\n",
       "      <td>78204</td>\n",
       "    </tr>\n",
       "    <tr>\n",
       "      <th>2</th>\n",
       "      <td>2018-09-09 06:25:18</td>\n",
       "      <td>29.494156</td>\n",
       "      <td>-98.554794</td>\n",
       "      <td>San Antonio</td>\n",
       "      <td>Bexar</td>\n",
       "      <td>TX</td>\n",
       "      <td>78201</td>\n",
       "    </tr>\n",
       "    <tr>\n",
       "      <th>3</th>\n",
       "      <td>2018-09-04 12:35:56</td>\n",
       "      <td>29.578566</td>\n",
       "      <td>-98.342667</td>\n",
       "      <td>San Antonio</td>\n",
       "      <td>Bexar</td>\n",
       "      <td>TX</td>\n",
       "      <td>78233</td>\n",
       "    </tr>\n",
       "    <tr>\n",
       "      <th>4</th>\n",
       "      <td>2018-09-07 08:27:27</td>\n",
       "      <td>29.484863</td>\n",
       "      <td>-98.534996</td>\n",
       "      <td>San Antonio</td>\n",
       "      <td>Bexar</td>\n",
       "      <td>TX</td>\n",
       "      <td>78201</td>\n",
       "    </tr>\n",
       "    <tr>\n",
       "      <th>...</th>\n",
       "      <td>...</td>\n",
       "      <td>...</td>\n",
       "      <td>...</td>\n",
       "      <td>...</td>\n",
       "      <td>...</td>\n",
       "      <td>...</td>\n",
       "      <td>...</td>\n",
       "    </tr>\n",
       "    <tr>\n",
       "      <th>849</th>\n",
       "      <td>2018-12-07 13:15:50</td>\n",
       "      <td>29.352264</td>\n",
       "      <td>-98.427841</td>\n",
       "      <td>San Antonio</td>\n",
       "      <td>Bexar</td>\n",
       "      <td>TX</td>\n",
       "      <td>78223</td>\n",
       "    </tr>\n",
       "    <tr>\n",
       "      <th>850</th>\n",
       "      <td>2018-12-07 10:20:11</td>\n",
       "      <td>29.455124</td>\n",
       "      <td>-98.634171</td>\n",
       "      <td>San Antonio</td>\n",
       "      <td>Bexar</td>\n",
       "      <td>TX</td>\n",
       "      <td>78251</td>\n",
       "    </tr>\n",
       "    <tr>\n",
       "      <th>851</th>\n",
       "      <td>2018-11-30 11:15:14</td>\n",
       "      <td>29.493256</td>\n",
       "      <td>-98.499268</td>\n",
       "      <td>San Antonio</td>\n",
       "      <td>Bexar</td>\n",
       "      <td>TX</td>\n",
       "      <td>78216-7205</td>\n",
       "    </tr>\n",
       "    <tr>\n",
       "      <th>852</th>\n",
       "      <td>2018-12-18 21:06:22</td>\n",
       "      <td>29.398918</td>\n",
       "      <td>-98.389267</td>\n",
       "      <td>San Antonio</td>\n",
       "      <td>Bexar</td>\n",
       "      <td>TX</td>\n",
       "      <td>78220</td>\n",
       "    </tr>\n",
       "    <tr>\n",
       "      <th>853</th>\n",
       "      <td>2018-12-07 10:25:26</td>\n",
       "      <td>29.488649</td>\n",
       "      <td>-98.515800</td>\n",
       "      <td>San Antonio</td>\n",
       "      <td>Bexar</td>\n",
       "      <td>TX</td>\n",
       "      <td>78213-4606</td>\n",
       "    </tr>\n",
       "  </tbody>\n",
       "</table>\n",
       "<p>854 rows × 7 columns</p>\n",
       "</div>"
      ],
      "text/plain": [
       "                    Time   Latitude  Longitude         City County State  \\\n",
       "0    2018-09-09 06:35:35  29.489286 -98.567596  San Antonio  Bexar    TX   \n",
       "1    2018-09-09 06:34:37  29.408224 -98.509232  San Antonio  Bexar    TX   \n",
       "2    2018-09-09 06:25:18  29.494156 -98.554794  San Antonio  Bexar    TX   \n",
       "3    2018-09-04 12:35:56  29.578566 -98.342667  San Antonio  Bexar    TX   \n",
       "4    2018-09-07 08:27:27  29.484863 -98.534996  San Antonio  Bexar    TX   \n",
       "..                   ...        ...        ...          ...    ...   ...   \n",
       "849  2018-12-07 13:15:50  29.352264 -98.427841  San Antonio  Bexar    TX   \n",
       "850  2018-12-07 10:20:11  29.455124 -98.634171  San Antonio  Bexar    TX   \n",
       "851  2018-11-30 11:15:14  29.493256 -98.499268  San Antonio  Bexar    TX   \n",
       "852  2018-12-18 21:06:22  29.398918 -98.389267  San Antonio  Bexar    TX   \n",
       "853  2018-12-07 10:25:26  29.488649 -98.515800  San Antonio  Bexar    TX   \n",
       "\n",
       "        Zipcode  \n",
       "0         78229  \n",
       "1         78204  \n",
       "2         78201  \n",
       "3         78233  \n",
       "4         78201  \n",
       "..          ...  \n",
       "849       78223  \n",
       "850       78251  \n",
       "851  78216-7205  \n",
       "852       78220  \n",
       "853  78213-4606  \n",
       "\n",
       "[854 rows x 7 columns]"
      ]
     },
     "execution_count": 3,
     "metadata": {},
     "output_type": "execute_result"
    }
   ],
   "source": [
    "# Extrapilating only data for San Antonio\n",
    "sa_df = texas_accidents_df.loc[texas_accidents_df['City']=='San Antonio']\n",
    "sa_df = sa_df.reset_index()\n",
    "sa_df = sa_df[['Time', 'Latitude', 'Longitude', 'City', 'County', 'State', 'Zipcode',]]\n",
    "sa_df"
   ]
  },
  {
   "cell_type": "markdown",
   "metadata": {},
   "source": [
    "## Data Analysis\n",
    "\n",
    "#### Grouping dataframe by county to get counts of accidents in each zipcode"
   ]
  },
  {
   "cell_type": "code",
   "execution_count": 4,
   "metadata": {},
   "outputs": [
    {
     "data": {
      "text/html": [
       "<div>\n",
       "<style scoped>\n",
       "    .dataframe tbody tr th:only-of-type {\n",
       "        vertical-align: middle;\n",
       "    }\n",
       "\n",
       "    .dataframe tbody tr th {\n",
       "        vertical-align: top;\n",
       "    }\n",
       "\n",
       "    .dataframe thead th {\n",
       "        text-align: right;\n",
       "    }\n",
       "</style>\n",
       "<table border=\"1\" class=\"dataframe\">\n",
       "  <thead>\n",
       "    <tr style=\"text-align: right;\">\n",
       "      <th></th>\n",
       "      <th>Time</th>\n",
       "      <th>Latitude</th>\n",
       "      <th>Longitude</th>\n",
       "      <th>City</th>\n",
       "      <th>County</th>\n",
       "      <th>State</th>\n",
       "      <th>Zipcode</th>\n",
       "      <th>Clean_Zip</th>\n",
       "    </tr>\n",
       "  </thead>\n",
       "  <tbody>\n",
       "    <tr>\n",
       "      <th>0</th>\n",
       "      <td>2018-09-09 06:35:35</td>\n",
       "      <td>29.489286</td>\n",
       "      <td>-98.567596</td>\n",
       "      <td>San Antonio</td>\n",
       "      <td>Bexar</td>\n",
       "      <td>TX</td>\n",
       "      <td>78229</td>\n",
       "      <td>78229</td>\n",
       "    </tr>\n",
       "    <tr>\n",
       "      <th>1</th>\n",
       "      <td>2018-09-09 06:34:37</td>\n",
       "      <td>29.408224</td>\n",
       "      <td>-98.509232</td>\n",
       "      <td>San Antonio</td>\n",
       "      <td>Bexar</td>\n",
       "      <td>TX</td>\n",
       "      <td>78204</td>\n",
       "      <td>78204</td>\n",
       "    </tr>\n",
       "    <tr>\n",
       "      <th>2</th>\n",
       "      <td>2018-09-09 06:25:18</td>\n",
       "      <td>29.494156</td>\n",
       "      <td>-98.554794</td>\n",
       "      <td>San Antonio</td>\n",
       "      <td>Bexar</td>\n",
       "      <td>TX</td>\n",
       "      <td>78201</td>\n",
       "      <td>78201</td>\n",
       "    </tr>\n",
       "    <tr>\n",
       "      <th>3</th>\n",
       "      <td>2018-09-04 12:35:56</td>\n",
       "      <td>29.578566</td>\n",
       "      <td>-98.342667</td>\n",
       "      <td>San Antonio</td>\n",
       "      <td>Bexar</td>\n",
       "      <td>TX</td>\n",
       "      <td>78233</td>\n",
       "      <td>78233</td>\n",
       "    </tr>\n",
       "    <tr>\n",
       "      <th>4</th>\n",
       "      <td>2018-09-07 08:27:27</td>\n",
       "      <td>29.484863</td>\n",
       "      <td>-98.534996</td>\n",
       "      <td>San Antonio</td>\n",
       "      <td>Bexar</td>\n",
       "      <td>TX</td>\n",
       "      <td>78201</td>\n",
       "      <td>78201</td>\n",
       "    </tr>\n",
       "    <tr>\n",
       "      <th>...</th>\n",
       "      <td>...</td>\n",
       "      <td>...</td>\n",
       "      <td>...</td>\n",
       "      <td>...</td>\n",
       "      <td>...</td>\n",
       "      <td>...</td>\n",
       "      <td>...</td>\n",
       "      <td>...</td>\n",
       "    </tr>\n",
       "    <tr>\n",
       "      <th>849</th>\n",
       "      <td>2018-12-07 13:15:50</td>\n",
       "      <td>29.352264</td>\n",
       "      <td>-98.427841</td>\n",
       "      <td>San Antonio</td>\n",
       "      <td>Bexar</td>\n",
       "      <td>TX</td>\n",
       "      <td>78223</td>\n",
       "      <td>78223</td>\n",
       "    </tr>\n",
       "    <tr>\n",
       "      <th>850</th>\n",
       "      <td>2018-12-07 10:20:11</td>\n",
       "      <td>29.455124</td>\n",
       "      <td>-98.634171</td>\n",
       "      <td>San Antonio</td>\n",
       "      <td>Bexar</td>\n",
       "      <td>TX</td>\n",
       "      <td>78251</td>\n",
       "      <td>78251</td>\n",
       "    </tr>\n",
       "    <tr>\n",
       "      <th>851</th>\n",
       "      <td>2018-11-30 11:15:14</td>\n",
       "      <td>29.493256</td>\n",
       "      <td>-98.499268</td>\n",
       "      <td>San Antonio</td>\n",
       "      <td>Bexar</td>\n",
       "      <td>TX</td>\n",
       "      <td>78216-7205</td>\n",
       "      <td>78216</td>\n",
       "    </tr>\n",
       "    <tr>\n",
       "      <th>852</th>\n",
       "      <td>2018-12-18 21:06:22</td>\n",
       "      <td>29.398918</td>\n",
       "      <td>-98.389267</td>\n",
       "      <td>San Antonio</td>\n",
       "      <td>Bexar</td>\n",
       "      <td>TX</td>\n",
       "      <td>78220</td>\n",
       "      <td>78220</td>\n",
       "    </tr>\n",
       "    <tr>\n",
       "      <th>853</th>\n",
       "      <td>2018-12-07 10:25:26</td>\n",
       "      <td>29.488649</td>\n",
       "      <td>-98.515800</td>\n",
       "      <td>San Antonio</td>\n",
       "      <td>Bexar</td>\n",
       "      <td>TX</td>\n",
       "      <td>78213-4606</td>\n",
       "      <td>78213</td>\n",
       "    </tr>\n",
       "  </tbody>\n",
       "</table>\n",
       "<p>854 rows × 8 columns</p>\n",
       "</div>"
      ],
      "text/plain": [
       "                    Time   Latitude  Longitude         City County State  \\\n",
       "0    2018-09-09 06:35:35  29.489286 -98.567596  San Antonio  Bexar    TX   \n",
       "1    2018-09-09 06:34:37  29.408224 -98.509232  San Antonio  Bexar    TX   \n",
       "2    2018-09-09 06:25:18  29.494156 -98.554794  San Antonio  Bexar    TX   \n",
       "3    2018-09-04 12:35:56  29.578566 -98.342667  San Antonio  Bexar    TX   \n",
       "4    2018-09-07 08:27:27  29.484863 -98.534996  San Antonio  Bexar    TX   \n",
       "..                   ...        ...        ...          ...    ...   ...   \n",
       "849  2018-12-07 13:15:50  29.352264 -98.427841  San Antonio  Bexar    TX   \n",
       "850  2018-12-07 10:20:11  29.455124 -98.634171  San Antonio  Bexar    TX   \n",
       "851  2018-11-30 11:15:14  29.493256 -98.499268  San Antonio  Bexar    TX   \n",
       "852  2018-12-18 21:06:22  29.398918 -98.389267  San Antonio  Bexar    TX   \n",
       "853  2018-12-07 10:25:26  29.488649 -98.515800  San Antonio  Bexar    TX   \n",
       "\n",
       "        Zipcode Clean_Zip  \n",
       "0         78229     78229  \n",
       "1         78204     78204  \n",
       "2         78201     78201  \n",
       "3         78233     78233  \n",
       "4         78201     78201  \n",
       "..          ...       ...  \n",
       "849       78223     78223  \n",
       "850       78251     78251  \n",
       "851  78216-7205     78216  \n",
       "852       78220     78220  \n",
       "853  78213-4606     78213  \n",
       "\n",
       "[854 rows x 8 columns]"
      ]
     },
     "execution_count": 4,
     "metadata": {},
     "output_type": "execute_result"
    }
   ],
   "source": [
    "# Narrowing zipcode to only 5 numbers\n",
    "sa_df['Clean_Zip'] = sa_df['Zipcode'].str.slice(0, 5) \n",
    "sa_df"
   ]
  },
  {
   "cell_type": "code",
   "execution_count": 5,
   "metadata": {
    "scrolled": true
   },
   "outputs": [],
   "source": [
    "group_by_zip = sa_df.groupby('Clean_Zip')\n",
    "zip_counts = group_by_zip.count()\n"
   ]
  },
  {
   "cell_type": "code",
   "execution_count": 6,
   "metadata": {},
   "outputs": [
    {
     "name": "stdout",
     "output_type": "stream",
     "text": [
      "The zip code(s) with the lowest accident count is/are ['78203', '78242', '78252', '78253', '78261'].\n",
      "The zip code(s) with the highest accident count is/are ['78216'].\n"
     ]
    }
   ],
   "source": [
    "zip_counts['Time'].min()\n",
    "min_acc = zip_counts.loc[zip_counts['Time']==zip_counts['Time'].min()]\n",
    "max_acc = zip_counts.loc[zip_counts['Time']==zip_counts['Time'].max()]\n",
    "\n",
    "print(f'The zip code(s) with the lowest accident count is/are {min_acc.index.tolist()}.')\n",
    "print(f'The zip code(s) with the highest accident count is/are {max_acc.index.tolist()}.')"
   ]
  },
  {
   "cell_type": "markdown",
   "metadata": {},
   "source": [
    "Chart I: Bar chart of accidents per zip code"
   ]
  },
  {
   "cell_type": "code",
   "execution_count": 7,
   "metadata": {
    "scrolled": true
   },
   "outputs": [
    {
     "data": {
      "image/png": "[encoded data removed]",
      "text/plain": [
       "<Figure size 1440x576 with 1 Axes>"
      ]
     },
     "metadata": {
      "needs_background": "light"
     },
     "output_type": "display_data"
    }
   ],
   "source": [
    "x_axis = zip_counts.index.to_list()\n",
    "y_axis = zip_counts[\"Time\"].to_list()\n",
    "plt.figure(figsize=(20, 8))\n",
    "plt.bar(x_axis, y_axis, color='deepskyblue')\n",
    "plt.xlim(-0.75, len(x_axis)-0.25)\n",
    "plt.xticks(rotation=\"vertical\")\n",
    "plt.title('Accidents per Zipcode in San Antonio (2018)', fontsize=18)\n",
    "plt.xlabel('Zipcode', fontsize=14)\n",
    "plt.ylabel('Number of Accidents', fontsize=14)\n",
    "plt.savefig(\"Images/acc_per_zip_bar.png\")\n",
    "plt.show()"
   ]
  },
  {
   "cell_type": "markdown",
   "metadata": {},
   "source": [
    "### Accidents based on side of town\n",
    "center of San Antonio 29.4241 (lat), 98.4936(long)\n",
    "Source: https://www.google.com/search?rlz=1C1GGRV_enUS758US758&biw=1366&bih=543&sxsrf=ALeKk032pRNUFt4i_pNxEdtKJ6MWS8YVxw%3A1613274777787&ei=mZ4oYISxL8nOtQb__bagCg&q=lat+and+long+of+center+of+san+antonio&oq=lat+and+long+of+center+of+san+antonio&gs_lcp=Cgdnd3Mtd2l6EAMyBQghEKABMgUIIRCgATIFCCEQqwIyBQghEKsCOgQIIxAnOgUIABCRAjoLCC4QxwEQrwEQkQI6CwguELEDEMcBEKMCOgQIABBDOggIABCxAxCDAToICC4QsQMQgwE6BwgAELEDEEM6BwgAEMkDEEM6CggAEIcCELEDEBQ6BQgAELEDOgcIABCHAhAUOgIIADoHCCMQsAIQJzoECAAQDToJCAAQyQMQFhAeOggIABAWEAoQHjoGCAAQFhAeOggIIRAWEB0QHjoHCCEQChCgAVDF3QNY85AEYK6TBGgBcAJ4AYAB9wGIAfIhkgEHMjAuMTYuM5gBAKABAaoBB2d3cy13aXrAAQE&sclient=gws-wiz&ved=0ahUKEwjE4bfwvOjuAhVJZ80KHf--DaQQ4dUDCA0&uact=5"
   ]
  },
  {
   "cell_type": "markdown",
   "metadata": {},
   "source": [
    "Instead of using zip codes to determine side of town, using the center points of San Antonio. Any accidents that occured Northwest of the center points will be considered Northwest and so on."
   ]
  },
  {
   "cell_type": "code",
   "execution_count": 8,
   "metadata": {},
   "outputs": [],
   "source": [
    "#forloop to calculate side of town\n",
    "for i, row in sa_df.iterrows():\n",
    "    if sa_df.loc[i, 'Latitude']> 29.4241 and sa_df.loc[i, \"Longitude\"]> -98.4936:\n",
    "        sa_df.loc[i, \"Side of Town\"] = \"Northeast\"\n",
    "    elif sa_df.loc[i, 'Latitude']< 29.4241 and sa_df.loc[i, \"Longitude\"]> -98.4936: \n",
    "        sa_df.loc[i,\"Side of Town\"] = \"Southeast\"\n",
    "    elif sa_df.loc[i, 'Latitude']< 29.4241 and sa_df.loc[i, \"Longitude\"]< -98.4936: \n",
    "        sa_df.loc[i, \"Side of Town\"] = \"Southwest\"\n",
    "    else:\n",
    "        sa_df.loc[i, \"Side of Town\"] = \"Northwest\""
   ]
  },
  {
   "cell_type": "code",
   "execution_count": 9,
   "metadata": {},
   "outputs": [],
   "source": [
    "#grouping by side of town to do counts.\n",
    "group_side = sa_df.groupby('Side of Town')\n",
    "side_counts = group_side.count()\n"
   ]
  },
  {
   "cell_type": "markdown",
   "metadata": {},
   "source": [
    "Chart II: Bar chart based on accidents for side of town."
   ]
  },
  {
   "cell_type": "code",
   "execution_count": 10,
   "metadata": {},
   "outputs": [
    {
     "data": {
      "image/png": "[encoded data removed]",
      "text/plain": [
       "<Figure size 432x432 with 1 Axes>"
      ]
     },
     "metadata": {
      "needs_background": "light"
     },
     "output_type": "display_data"
    }
   ],
   "source": [
    "x_axis2 = side_counts.index.tolist()\n",
    "y_axis2 = side_counts['Time'].tolist()\n",
    "plt.figure(figsize=(6, 6))\n",
    "plt.bar(x_axis2, y_axis2, color='deepskyblue')\n",
    "plt.title(\"Accidents per side of town\\n in San Antonio(2018)\", fontsize=18)\n",
    "plt.xlabel(\"Side of Town\", fontsize=14)\n",
    "plt.ylabel('Number of Accidents', fontsize=14)\n",
    "plt.savefig(\"Images/acc_side_bar.png\")\n",
    "plt.show()"
   ]
  },
  {
   "cell_type": "markdown",
   "metadata": {},
   "source": [
    "#### Analyzing accidents based on population"
   ]
  },
  {
   "cell_type": "markdown",
   "metadata": {},
   "source": [
    "With the help of the census module and census.gov API, pulling in population information for each zip code for 2018."
   ]
  },
  {
   "cell_type": "code",
   "execution_count": 11,
   "metadata": {},
   "outputs": [
    {
     "name": "stdout",
     "output_type": "stream",
     "text": [
      "33120\n"
     ]
    },
    {
     "data": {
      "text/html": [
       "<div>\n",
       "<style scoped>\n",
       "    .dataframe tbody tr th:only-of-type {\n",
       "        vertical-align: middle;\n",
       "    }\n",
       "\n",
       "    .dataframe tbody tr th {\n",
       "        vertical-align: top;\n",
       "    }\n",
       "\n",
       "    .dataframe thead th {\n",
       "        text-align: right;\n",
       "    }\n",
       "</style>\n",
       "<table border=\"1\" class=\"dataframe\">\n",
       "  <thead>\n",
       "    <tr style=\"text-align: right;\">\n",
       "      <th></th>\n",
       "      <th>Zipcode</th>\n",
       "      <th>Population</th>\n",
       "    </tr>\n",
       "  </thead>\n",
       "  <tbody>\n",
       "    <tr>\n",
       "      <th>0</th>\n",
       "      <td>23833</td>\n",
       "      <td>2301.0</td>\n",
       "    </tr>\n",
       "    <tr>\n",
       "      <th>1</th>\n",
       "      <td>23850</td>\n",
       "      <td>1268.0</td>\n",
       "    </tr>\n",
       "    <tr>\n",
       "      <th>2</th>\n",
       "      <td>23851</td>\n",
       "      <td>13262.0</td>\n",
       "    </tr>\n",
       "    <tr>\n",
       "      <th>3</th>\n",
       "      <td>23890</td>\n",
       "      <td>3708.0</td>\n",
       "    </tr>\n",
       "    <tr>\n",
       "      <th>4</th>\n",
       "      <td>23302</td>\n",
       "      <td>268.0</td>\n",
       "    </tr>\n",
       "  </tbody>\n",
       "</table>\n",
       "</div>"
      ],
      "text/plain": [
       "  Zipcode  Population\n",
       "0   23833      2301.0\n",
       "1   23850      1268.0\n",
       "2   23851     13262.0\n",
       "3   23890      3708.0\n",
       "4   23302       268.0"
      ]
     },
     "execution_count": 11,
     "metadata": {},
     "output_type": "execute_result"
    }
   ],
   "source": [
    "#pulling in census data\n",
    "census_data = c.acs5.get((\"NAME\", \"B01003_001E\"), {'for': 'zip code tabulation area:*'})\n",
    "\n",
    "# Convert to DataFrame\n",
    "census_pd = pd.DataFrame(census_data)\n",
    "\n",
    "# Column Reordering\n",
    "census_pd = census_pd.rename(columns={\"B01003_001E\": \"Population\",\n",
    "                                      \"NAME\": \"Name\", \"zip code tabulation area\": \"Zipcode\"})\n",
    "\n",
    "\n",
    "# Final DataFrame\n",
    "census_pd = census_pd[[\"Zipcode\", \"Population\"]]\n",
    "\n",
    "# Visualize\n",
    "print(len(census_pd))\n",
    "census_pd.head()"
   ]
  },
  {
   "cell_type": "markdown",
   "metadata": {},
   "source": [
    "Getting only the population information for the zipcodes where accidents occurred. "
   ]
  },
  {
   "cell_type": "code",
   "execution_count": 12,
   "metadata": {},
   "outputs": [],
   "source": [
    "#using for loop to match zip codes pulled from previous grouped df to the census df\n",
    "pop = []\n",
    "zipcode_list = []\n",
    "for zipcode in x_axis:\n",
    "    for i, row in census_pd.iterrows():\n",
    "        if census_pd.loc[i, 'Zipcode'] == zipcode:\n",
    "            pop.append(census_pd.loc[i, 'Population'])\n",
    "            zipcode_list.append(zipcode)\n",
    "            "
   ]
  },
  {
   "cell_type": "markdown",
   "metadata": {},
   "source": [
    "New Dataframe for further analysis on population levels."
   ]
  },
  {
   "cell_type": "code",
   "execution_count": 13,
   "metadata": {},
   "outputs": [],
   "source": [
    "#making new df with population info\n",
    "pop_df = pd.DataFrame({\"Clean_Zip\": zipcode_list, \n",
    "                     'Population': pop})\n",
    "pop_by_zip_df = pd.merge(pop_df, zip_counts[\"Time\"], on='Clean_Zip')\n"
   ]
  },
  {
   "cell_type": "markdown",
   "metadata": {},
   "source": [
    "Put the zip codes in bins based on population levels."
   ]
  },
  {
   "cell_type": "code",
   "execution_count": 14,
   "metadata": {},
   "outputs": [],
   "source": [
    "bins = [0, 20000, 40000, 80000]\n",
    "labels = ['small', 'medium', 'large']\n",
    "pop_by_zip_df['Population_level'] = pd.cut(pop_by_zip_df['Population'], bins, labels=labels, include_lowest=True)\n"
   ]
  },
  {
   "cell_type": "markdown",
   "metadata": {},
   "source": [
    "Grouping by bins to get count of accidents"
   ]
  },
  {
   "cell_type": "code",
   "execution_count": 15,
   "metadata": {},
   "outputs": [
    {
     "data": {
      "text/html": [
       "<div>\n",
       "<style scoped>\n",
       "    .dataframe tbody tr th:only-of-type {\n",
       "        vertical-align: middle;\n",
       "    }\n",
       "\n",
       "    .dataframe tbody tr th {\n",
       "        vertical-align: top;\n",
       "    }\n",
       "\n",
       "    .dataframe thead th {\n",
       "        text-align: right;\n",
       "    }\n",
       "</style>\n",
       "<table border=\"1\" class=\"dataframe\">\n",
       "  <thead>\n",
       "    <tr style=\"text-align: right;\">\n",
       "      <th></th>\n",
       "      <th>Population</th>\n",
       "      <th>Time</th>\n",
       "    </tr>\n",
       "    <tr>\n",
       "      <th>Population_level</th>\n",
       "      <th></th>\n",
       "      <th></th>\n",
       "    </tr>\n",
       "  </thead>\n",
       "  <tbody>\n",
       "    <tr>\n",
       "      <th>small</th>\n",
       "      <td>156316.0</td>\n",
       "      <td>134</td>\n",
       "    </tr>\n",
       "    <tr>\n",
       "      <th>medium</th>\n",
       "      <td>504625.0</td>\n",
       "      <td>277</td>\n",
       "    </tr>\n",
       "    <tr>\n",
       "      <th>large</th>\n",
       "      <td>1008684.0</td>\n",
       "      <td>443</td>\n",
       "    </tr>\n",
       "  </tbody>\n",
       "</table>\n",
       "</div>"
      ],
      "text/plain": [
       "                  Population  Time\n",
       "Population_level                  \n",
       "small               156316.0   134\n",
       "medium              504625.0   277\n",
       "large              1008684.0   443"
      ]
     },
     "execution_count": 15,
     "metadata": {},
     "output_type": "execute_result"
    }
   ],
   "source": [
    "group_by_pop = pop_by_zip_df.groupby('Population_level')\n",
    "count_of_acc = group_by_pop.sum()\n",
    "count_of_acc"
   ]
  },
  {
   "cell_type": "markdown",
   "metadata": {},
   "source": [
    "Chart III: Bar chart of accidents per zip code size"
   ]
  },
  {
   "cell_type": "code",
   "execution_count": 16,
   "metadata": {},
   "outputs": [
    {
     "data": {
      "image/png": "[encoded data removed]",
      "text/plain": [
       "<Figure size 576x432 with 1 Axes>"
      ]
     },
     "metadata": {
      "needs_background": "light"
     },
     "output_type": "display_data"
    }
   ],
   "source": [
    "x_axis3 = count_of_acc.index.tolist()\n",
    "y_axis3 = count_of_acc['Time'].tolist()\n",
    "plt.figure(figsize=(8, 6))\n",
    "plt.bar(x_axis3, y_axis3, color='deepskyblue')\n",
    "plt.title(\"Accidents per size of zip code\\n in San Antonio(2018)\", fontsize=18)\n",
    "plt.xlabel(\"Zip Code size based on population\", fontsize=14)\n",
    "plt.ylabel('Number of Accidents', fontsize=14)\n",
    "plt.savefig(\"Images/acc_zipsize_bar.png\")\n",
    "plt.show()"
   ]
  },
  {
   "cell_type": "code",
   "execution_count": 17,
   "metadata": {},
   "outputs": [],
   "source": [
    "#Getting data for each bin based on zipcode size\n",
    "small_x_axis = []\n",
    "small_y_axis = []\n",
    "medium_x_axis = []\n",
    "medium_y_axis = []\n",
    "large_x_axis = []\n",
    "large_y_axis= []\n",
    "for index, row in pop_by_zip_df.iterrows():\n",
    "    if pop_by_zip_df.loc[index, \"Population_level\"] == \"small\":\n",
    "        small_x_axis.append(pop_by_zip_df.loc[index, \"Clean_Zip\"])\n",
    "        small_y_axis.append(pop_by_zip_df.loc[index, 'Time'])\n",
    "    elif pop_by_zip_df.loc[index, 'Population_level'] == \"medium\":\n",
    "        medium_x_axis.append(pop_by_zip_df.loc[index, \"Clean_Zip\"])\n",
    "        medium_y_axis.append(pop_by_zip_df.loc[index, 'Time'])\n",
    "    else:\n",
    "        large_x_axis.append(pop_by_zip_df.loc[index, \"Clean_Zip\"])\n",
    "        large_y_axis.append(pop_by_zip_df.loc[index, 'Time'])"
   ]
  },
  {
   "cell_type": "markdown",
   "metadata": {},
   "source": [
    "Chart IV: Bar chart of accidents per small zip codes"
   ]
  },
  {
   "cell_type": "code",
   "execution_count": 18,
   "metadata": {},
   "outputs": [
    {
     "data": {
      "image/png": "[encoded data removed]",
      "text/plain": [
       "<Figure size 1440x576 with 1 Axes>"
      ]
     },
     "metadata": {
      "needs_background": "light"
     },
     "output_type": "display_data"
    }
   ],
   "source": [
    "plt.figure(figsize=(20, 8))\n",
    "plt.bar(small_x_axis, small_y_axis, color=\"deepskyblue\", label=\"Small Counties (0-20000 pop)\")\n",
    "plt.title(\"Accidents per small zip codes (<20,000) in San Antonio(2018)\", fontsize=18)\n",
    "plt.xlabel(\"Zip Code\", fontsize=14)\n",
    "plt.ylabel('Number of Accidents', fontsize=14)\n",
    "plt.savefig(\"Images/acc_small_bar.png\")\n",
    "plt.show()"
   ]
  },
  {
   "cell_type": "markdown",
   "metadata": {},
   "source": [
    "Chart V: Bar chart of accidents per medium zip codes"
   ]
  },
  {
   "cell_type": "code",
   "execution_count": 19,
   "metadata": {},
   "outputs": [
    {
     "data": {
      "image/png": "[encoded data removed]",
      "text/plain": [
       "<Figure size 1440x576 with 1 Axes>"
      ]
     },
     "metadata": {
      "needs_background": "light"
     },
     "output_type": "display_data"
    }
   ],
   "source": [
    "plt.figure(figsize=(20, 8))\n",
    "plt.bar(medium_x_axis, medium_y_axis, color=\"deepskyblue\", label=\"Medium Counties (20001-50000 pop)\" )\n",
    "plt.title(\"Accidents per medium zip codes (20,000-40,000) in San Antonio(2018)\", fontsize=18)\n",
    "plt.xlabel(\"Zip Code\", fontsize=14)\n",
    "plt.ylabel('Number of Accidents', fontsize=14)\n",
    "plt.savefig(\"Images/acc_medium_bar.png\")\n",
    "plt.show()"
   ]
  },
  {
   "cell_type": "markdown",
   "metadata": {},
   "source": [
    "Chart VI: Bar chart of accidents per large zip codes"
   ]
  },
  {
   "cell_type": "code",
   "execution_count": 20,
   "metadata": {},
   "outputs": [
    {
     "data": {
      "image/png": "[encoded data removed]",
      "text/plain": [
       "<Figure size 1440x576 with 1 Axes>"
      ]
     },
     "metadata": {
      "needs_background": "light"
     },
     "output_type": "display_data"
    }
   ],
   "source": [
    "plt.figure(figsize=(20, 8))\n",
    "plt.bar(large_x_axis, large_y_axis, color='deepskyblue', label=\"Large Counties (50001-80000 pop)\" )\n",
    "plt.title(\"Accidents per large zip codes (>40,000) in San Antonio(2018)\", fontsize=18)\n",
    "plt.xlabel(\"Zip Code\", fontsize=14)\n",
    "plt.ylabel('Number of Accidents', fontsize=14)\n",
    "plt.savefig(\"Images/acc_large_bar.png\")\n",
    "plt.show()"
   ]
  },
  {
   "cell_type": "markdown",
   "metadata": {},
   "source": [
    "## Summary Statistics\n",
    "Using the chi square to test hypothesis.\n",
    "\n",
    "Hypothesis: The areas with a higher population will have more accidents"
   ]
  },
  {
   "cell_type": "code",
   "execution_count": 21,
   "metadata": {},
   "outputs": [
    {
     "data": {
      "text/plain": [
       "854"
      ]
     },
     "execution_count": 21,
     "metadata": {},
     "output_type": "execute_result"
    }
   ],
   "source": [
    "# total accidents in san antonio\n",
    "count_of_acc[\"Time\"].sum()"
   ]
  },
  {
   "cell_type": "markdown",
   "metadata": {},
   "source": [
    "Expectations based on hypothesis, accidents split 20% (small), 30% (medium), 50% (large)."
   ]
  },
  {
   "cell_type": "code",
   "execution_count": 22,
   "metadata": {},
   "outputs": [
    {
     "data": {
      "text/html": [
       "<div>\n",
       "<style scoped>\n",
       "    .dataframe tbody tr th:only-of-type {\n",
       "        vertical-align: middle;\n",
       "    }\n",
       "\n",
       "    .dataframe tbody tr th {\n",
       "        vertical-align: top;\n",
       "    }\n",
       "\n",
       "    .dataframe thead th {\n",
       "        text-align: right;\n",
       "    }\n",
       "</style>\n",
       "<table border=\"1\" class=\"dataframe\">\n",
       "  <thead>\n",
       "    <tr style=\"text-align: right;\">\n",
       "      <th></th>\n",
       "      <th>Population</th>\n",
       "      <th>Time</th>\n",
       "      <th>Expected</th>\n",
       "    </tr>\n",
       "    <tr>\n",
       "      <th>Population_level</th>\n",
       "      <th></th>\n",
       "      <th></th>\n",
       "      <th></th>\n",
       "    </tr>\n",
       "  </thead>\n",
       "  <tbody>\n",
       "    <tr>\n",
       "      <th>small</th>\n",
       "      <td>156316.0</td>\n",
       "      <td>134</td>\n",
       "      <td>171</td>\n",
       "    </tr>\n",
       "    <tr>\n",
       "      <th>medium</th>\n",
       "      <td>504625.0</td>\n",
       "      <td>277</td>\n",
       "      <td>256</td>\n",
       "    </tr>\n",
       "    <tr>\n",
       "      <th>large</th>\n",
       "      <td>1008684.0</td>\n",
       "      <td>443</td>\n",
       "      <td>427</td>\n",
       "    </tr>\n",
       "  </tbody>\n",
       "</table>\n",
       "</div>"
      ],
      "text/plain": [
       "                  Population  Time  Expected\n",
       "Population_level                            \n",
       "small               156316.0   134       171\n",
       "medium              504625.0   277       256\n",
       "large              1008684.0   443       427"
      ]
     },
     "execution_count": 22,
     "metadata": {},
     "output_type": "execute_result"
    }
   ],
   "source": [
    "#adding expectation column based on hypothesis\n",
    "count_of_acc['Expected'] = [171, 256, 427]\n",
    "count_of_acc"
   ]
  },
  {
   "cell_type": "markdown",
   "metadata": {},
   "source": [
    "Calculating the chi square"
   ]
  },
  {
   "cell_type": "code",
   "execution_count": 23,
   "metadata": {},
   "outputs": [],
   "source": [
    "# The degree of freedom is 3-1 = 2\n",
    "# With a p-value of 0.05, the confidence level is 1.00-0.05 = 0.95.\n",
    "critical_value = stats.chi2.ppf(q = 0.95, df = 2)"
   ]
  },
  {
   "cell_type": "code",
   "execution_count": 24,
   "metadata": {},
   "outputs": [
    {
     "data": {
      "text/plain": [
       "5.991464547107979"
      ]
     },
     "execution_count": 24,
     "metadata": {},
     "output_type": "execute_result"
    }
   ],
   "source": [
    "# The critical value\n",
    "critical_value"
   ]
  },
  {
   "cell_type": "code",
   "execution_count": 25,
   "metadata": {},
   "outputs": [
    {
     "data": {
      "text/plain": [
       "Power_divergenceResult(statistic=10.328035819141434, pvalue=0.005718676339370019)"
      ]
     },
     "execution_count": 25,
     "metadata": {},
     "output_type": "execute_result"
    }
   ],
   "source": [
    "# Run the chi square test with stats.chisquare()\n",
    "stats.chisquare(count_of_acc['Time'], count_of_acc['Expected'])"
   ]
  },
  {
   "cell_type": "markdown",
   "metadata": {},
   "source": [
    "### Conclusion\n",
    "\n",
    "* Since the chi square value of 10.33 exceeds the critical value of 5.99, we conclude that the results are statistically significant. This proves the hypothesis to be correct, the more populated the zip codes, the more accidents that will occur."
   ]
  },
  {
   "cell_type": "markdown",
   "metadata": {},
   "source": [
    "# The best place to drive in San Antonio is in the Southeast side of town in zip code 78203."
   ]
  },
  {
   "cell_type": "code",
   "execution_count": null,
   "metadata": {},
   "outputs": [],
   "source": []
  }
 ],
 "metadata": {
  "kernelspec": {
   "display_name": "Python [conda env:PythonData2] *",
   "language": "python",
   "name": "conda-env-PythonData2-py"
  },
  "language_info": {
   "codemirror_mode": {
    "name": "ipython",
    "version": 3
   },
   "file_extension": ".py",
   "mimetype": "text/x-python",
   "name": "python",
   "nbconvert_exporter": "python",
   "pygments_lexer": "ipython3",
   "version": "3.6.10"
  }
 },
 "nbformat": 4,
 "nbformat_minor": 4
}
