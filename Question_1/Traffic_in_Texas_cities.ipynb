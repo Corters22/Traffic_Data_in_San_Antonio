{
 "cells": [
  {
   "cell_type": "code",
   "execution_count": 1,
   "metadata": {
    "collapsed": true,
    "deletable": true,
    "editable": true
   },
   "outputs": [],
   "source": [
    "import pandas as pd\n",
    "import matplotlib.pyplot as plt\n",
    "import gmaps\n",
    "import requests\n",
    "import scipy.stats as stats\n",
    "from api_key import g_key"
   ]
  },
  {
   "cell_type": "markdown",
   "metadata": {},
   "source": [
    "# Comparison of Number of Traffic Accidents per County in Texas\n",
    "\n",
    "The question: Is there a smaller chance of getting into an accident in some counties in Texas?\n",
    "\n",
    "The Hypothesis: There should be more accidents in counties with higher populations."
   ]
  },
  {
   "cell_type": "markdown",
   "metadata": {},
   "source": [
    "## Dataset: US Accidents (4.2 million records)\n",
    "Source:https://www.kaggle.com/sobhanmoosavi/us-accidents\n",
    "\n",
    "Description: Reported accidents over US from 2016-Dec 2020, includes location of accident, date of the occurance, weather at time of the accident, and other variables."
   ]
  },
  {
   "cell_type": "markdown",
   "metadata": {},
   "source": [
    "## Cleaned CSV: cleaned_2018_texas_accidents.csv\n",
    "Data Extrapilated: Accidents that occurred in Texas in 2018, including the weather, location and time of occurance.\n",
    "\n",
    "Refer to cleaning_csv.ipynb"
   ]
  },
  {
   "cell_type": "code",
<<<<<<< HEAD
<<<<<<< HEAD
   "execution_count": 5,
   "metadata": {
    "collapsed": false,
    "deletable": true,
    "editable": true
   },
=======
   "execution_count": 2,
=======
   "execution_count": 3,
>>>>>>> 019be633336576862f77302806e00b9c67fae56c
   "metadata": {},
>>>>>>> a97fddeb39d4e18aecb9c57f8d8d9ee807f9f604
   "outputs": [
    {
     "data": {
      "text/html": [
       "<div>\n",
       "<style scoped>\n",
       "    .dataframe tbody tr th:only-of-type {\n",
       "        vertical-align: middle;\n",
       "    }\n",
       "\n",
       "    .dataframe tbody tr th {\n",
       "        vertical-align: top;\n",
       "    }\n",
       "\n",
       "    .dataframe thead th {\n",
       "        text-align: right;\n",
       "    }\n",
       "</style>\n",
       "<table border=\"1\" class=\"dataframe\">\n",
       "  <thead>\n",
       "    <tr style=\"text-align: right;\">\n",
       "      <th></th>\n",
       "      <th>Unnamed: 0</th>\n",
       "      <th>Time</th>\n",
       "      <th>Latitude</th>\n",
       "      <th>Longitude</th>\n",
       "      <th>City</th>\n",
       "      <th>County</th>\n",
       "      <th>State</th>\n",
       "      <th>Zipcode</th>\n",
       "      <th>Temperature(F)</th>\n",
       "      <th>Humidity(%)</th>\n",
       "      <th>Pressure(in)</th>\n",
       "      <th>Visibility(mi)</th>\n",
       "      <th>Wind_Speed(mph)</th>\n",
       "      <th>Precipitation(in)</th>\n",
       "      <th>Weather_Condition</th>\n",
       "      <th>Year</th>\n",
       "      <th>Month</th>\n",
       "      <th>Day</th>\n",
       "    </tr>\n",
       "  </thead>\n",
       "  <tbody>\n",
       "    <tr>\n",
       "      <th>5470</th>\n",
       "      <td>262749</td>\n",
       "      <td>2018-02-21 10:49:54</td>\n",
       "      <td>31.371149</td>\n",
       "      <td>-94.722473</td>\n",
       "      <td>Lufkin</td>\n",
       "      <td>Angelina</td>\n",
       "      <td>TX</td>\n",
       "      <td>75904-1233</td>\n",
       "      <td>55.9</td>\n",
       "      <td>100.0</td>\n",
       "      <td>30.14</td>\n",
       "      <td>4.0</td>\n",
       "      <td>9.2</td>\n",
       "      <td>0.13</td>\n",
       "      <td>Light Rain</td>\n",
       "      <td>2018</td>\n",
       "      <td>2</td>\n",
       "      <td>21</td>\n",
       "    </tr>\n",
       "    <tr>\n",
       "      <th>415</th>\n",
       "      <td>199498</td>\n",
       "      <td>2018-12-14 06:58:49</td>\n",
       "      <td>31.129475</td>\n",
       "      <td>-94.318848</td>\n",
       "      <td>Zavalla</td>\n",
       "      <td>Angelina</td>\n",
       "      <td>TX</td>\n",
       "      <td>75980</td>\n",
       "      <td>43.0</td>\n",
       "      <td>97.0</td>\n",
       "      <td>29.78</td>\n",
       "      <td>10.0</td>\n",
       "      <td>6.9</td>\n",
       "      <td>0.00</td>\n",
       "      <td>Overcast</td>\n",
       "      <td>2018</td>\n",
       "      <td>12</td>\n",
       "      <td>14</td>\n",
       "    </tr>\n",
       "    <tr>\n",
       "      <th>2192</th>\n",
       "      <td>214086</td>\n",
       "      <td>2018-10-24 07:57:14</td>\n",
       "      <td>30.175158</td>\n",
       "      <td>-97.527016</td>\n",
       "      <td>Cedar Creek</td>\n",
       "      <td>Bastrop</td>\n",
       "      <td>TX</td>\n",
       "      <td>78612</td>\n",
       "      <td>57.9</td>\n",
       "      <td>93.0</td>\n",
       "      <td>30.03</td>\n",
       "      <td>10.0</td>\n",
       "      <td>9.2</td>\n",
       "      <td>0.00</td>\n",
       "      <td>Light Rain</td>\n",
       "      <td>2018</td>\n",
       "      <td>10</td>\n",
       "      <td>24</td>\n",
       "    </tr>\n",
       "    <tr>\n",
       "      <th>1767</th>\n",
       "      <td>212533</td>\n",
       "      <td>2018-10-16 12:51:16</td>\n",
       "      <td>30.319321</td>\n",
       "      <td>-97.443939</td>\n",
       "      <td>Elgin</td>\n",
       "      <td>Bastrop</td>\n",
       "      <td>TX</td>\n",
       "      <td>78621-4147</td>\n",
       "      <td>46.4</td>\n",
       "      <td>100.0</td>\n",
       "      <td>30.20</td>\n",
       "      <td>3.0</td>\n",
       "      <td>15.0</td>\n",
       "      <td>0.02</td>\n",
       "      <td>Light Rain</td>\n",
       "      <td>2018</td>\n",
       "      <td>10</td>\n",
       "      <td>16</td>\n",
       "    </tr>\n",
       "    <tr>\n",
       "      <th>2225</th>\n",
       "      <td>214143</td>\n",
       "      <td>2018-10-24 16:49:49</td>\n",
       "      <td>31.101995</td>\n",
       "      <td>-97.359596</td>\n",
       "      <td>Temple</td>\n",
       "      <td>Bell</td>\n",
       "      <td>TX</td>\n",
       "      <td>76504</td>\n",
       "      <td>60.1</td>\n",
       "      <td>100.0</td>\n",
       "      <td>30.01</td>\n",
       "      <td>4.0</td>\n",
       "      <td>9.2</td>\n",
       "      <td>0.29</td>\n",
       "      <td>Light Rain</td>\n",
       "      <td>2018</td>\n",
       "      <td>10</td>\n",
       "      <td>24</td>\n",
       "    </tr>\n",
       "  </tbody>\n",
       "</table>\n",
       "</div>"
      ],
      "text/plain": [
       "      Unnamed: 0                 Time   Latitude  Longitude         City  \\\n",
       "5470      262749  2018-02-21 10:49:54  31.371149 -94.722473       Lufkin   \n",
       "415       199498  2018-12-14 06:58:49  31.129475 -94.318848      Zavalla   \n",
       "2192      214086  2018-10-24 07:57:14  30.175158 -97.527016  Cedar Creek   \n",
       "1767      212533  2018-10-16 12:51:16  30.319321 -97.443939        Elgin   \n",
       "2225      214143  2018-10-24 16:49:49  31.101995 -97.359596       Temple   \n",
       "\n",
       "        County State     Zipcode  Temperature(F)  Humidity(%)  Pressure(in)  \\\n",
       "5470  Angelina    TX  75904-1233            55.9        100.0         30.14   \n",
       "415   Angelina    TX       75980            43.0         97.0         29.78   \n",
       "2192   Bastrop    TX       78612            57.9         93.0         30.03   \n",
       "1767   Bastrop    TX  78621-4147            46.4        100.0         30.20   \n",
       "2225      Bell    TX       76504            60.1        100.0         30.01   \n",
       "\n",
       "      Visibility(mi)  Wind_Speed(mph)  Precipitation(in) Weather_Condition  \\\n",
       "5470             4.0              9.2               0.13        Light Rain   \n",
       "415             10.0              6.9               0.00          Overcast   \n",
       "2192            10.0              9.2               0.00        Light Rain   \n",
       "1767             3.0             15.0               0.02        Light Rain   \n",
       "2225             4.0              9.2               0.29        Light Rain   \n",
       "\n",
       "      Year  Month  Day  \n",
       "5470  2018      2   21  \n",
       "415   2018     12   14  \n",
       "2192  2018     10   24  \n",
       "1767  2018     10   16  \n",
       "2225  2018     10   24  "
      ]
     },
     "execution_count": 3,
     "metadata": {},
     "output_type": "execute_result"
    }
   ],
   "source": [
    "csv_read = pd.read_csv(\"../cleaned_2018_texas_accidents.csv\")\n",
    "texas_accidents_df = pd.DataFrame(csv_read)\n",
    "texas_accidents_df = texas_accidents_df.sort_values(\"County\")\n",
    "texas_accidents_df.head()"
   ]
  },
  {
   "cell_type": "code",
   "execution_count": 4,
   "metadata": {},
   "outputs": [],
   "source": [
    "#pulling in columns needed\n",
    "texas_accidents_df = texas_accidents_df[['Time', 'Latitude', 'Longitude', 'City', 'County',\n",
    "       'State', 'Zipcode', 'Temperature(F)', 'Humidity(%)', 'Pressure(in)',\n",
    "       'Visibility(mi)', 'Wind_Speed(mph)', 'Precipitation(in)',\n",
    "       'Weather_Condition', 'Year', 'Month', 'Day']]"
   ]
  },
  {
   "cell_type": "markdown",
   "metadata": {},
   "source": [
    "# Data Analysis"
   ]
  },
  {
   "cell_type": "markdown",
   "metadata": {},
   "source": [
    "#### Grouping dataframe by county to get counts of accidents in each county"
   ]
  },
  {
   "cell_type": "code",
   "execution_count": 5,
   "metadata": {},
   "outputs": [
    {
     "data": {
      "text/plain": [
       "County\n",
       "Angelina        2\n",
       "Bastrop         2\n",
       "Bell           12\n",
       "Bexar         871\n",
       "Bowie           3\n",
       "Brazoria       22\n",
       "Caldwell        4\n",
       "Cameron         4\n",
       "Childress       1\n",
       "Clay            2\n",
       "Collin         23\n",
       "Comal           2\n",
       "Cooke           1\n",
       "Dallas       1806\n",
       "Denton        156\n",
       "Dimmit          1\n",
       "Ector           2\n",
       "El Paso       211\n",
       "Ellis           7\n",
       "Fayette         1\n",
       "Name: Time, dtype: int64"
      ]
     },
     "execution_count": 5,
     "metadata": {},
     "output_type": "execute_result"
    }
   ],
   "source": [
    "#Group by county and include count of accidents per county\n",
    "group_county = texas_accidents_df.groupby(\"County\")\n",
    "count_per_county = group_county[\"Time\"].count()\n",
    "count_per_county.head(20)"
   ]
  },
  {
   "cell_type": "markdown",
   "metadata": {},
   "source": [
    "#### Additional Dataset Needed: texas_population_by_county.csv\n",
    "Source: Census.gov\n",
    "\n",
    "After analyzing counts in each counties, there were significant differences in the counts. In order to properly analyze the difference between counties, brought in population count of counties to see how many accidents there were based on every 1000 people within driving age."
   ]
  },
  {
   "cell_type": "code",
   "execution_count": 6,
   "metadata": {},
   "outputs": [],
   "source": [
    "#Reading in CSV\n",
    "csv_read = pd.read_csv(\"texas_population_by_county.csv\")\n",
    "county_pop_df = pd.DataFrame(csv_read)"
   ]
  },
  {
   "cell_type": "markdown",
   "metadata": {},
   "source": [
    "This new dataset had many other columns, splitting the population counts by gender and age. Cleaning of dataframe included pulling only the columns needed (the total population and the population count of the age groups 17 and under). "
   ]
  },
  {
   "cell_type": "code",
   "execution_count": 7,
   "metadata": {},
   "outputs": [
    {
     "data": {
      "text/html": [
       "<div>\n",
       "<style scoped>\n",
       "    .dataframe tbody tr th:only-of-type {\n",
       "        vertical-align: middle;\n",
       "    }\n",
       "\n",
       "    .dataframe tbody tr th {\n",
       "        vertical-align: top;\n",
       "    }\n",
       "\n",
       "    .dataframe thead th {\n",
       "        text-align: right;\n",
       "    }\n",
       "</style>\n",
       "<table border=\"1\" class=\"dataframe\">\n",
       "  <thead>\n",
       "    <tr style=\"text-align: right;\">\n",
       "      <th></th>\n",
       "      <th>CTYNAME</th>\n",
       "      <th>YEAR</th>\n",
       "      <th>POPESTIMATE</th>\n",
       "      <th>UNDER5_TOT</th>\n",
       "      <th>AGE513_TOT</th>\n",
       "      <th>AGE1417_TOT</th>\n",
       "      <th>Driving_pop</th>\n",
       "    </tr>\n",
       "  </thead>\n",
       "  <tbody>\n",
       "    <tr>\n",
       "      <th>0</th>\n",
       "      <td>Anderson County</td>\n",
       "      <td>1</td>\n",
       "      <td>58458</td>\n",
       "      <td>3135</td>\n",
       "      <td>5805</td>\n",
       "      <td>2535</td>\n",
       "      <td>46983</td>\n",
       "    </tr>\n",
       "    <tr>\n",
       "      <th>1</th>\n",
       "      <td>Anderson County</td>\n",
       "      <td>2</td>\n",
       "      <td>58452</td>\n",
       "      <td>3135</td>\n",
       "      <td>5804</td>\n",
       "      <td>2534</td>\n",
       "      <td>46979</td>\n",
       "    </tr>\n",
       "    <tr>\n",
       "      <th>2</th>\n",
       "      <td>Anderson County</td>\n",
       "      <td>3</td>\n",
       "      <td>58493</td>\n",
       "      <td>3129</td>\n",
       "      <td>5780</td>\n",
       "      <td>2526</td>\n",
       "      <td>47058</td>\n",
       "    </tr>\n",
       "    <tr>\n",
       "      <th>3</th>\n",
       "      <td>Anderson County</td>\n",
       "      <td>4</td>\n",
       "      <td>58394</td>\n",
       "      <td>3105</td>\n",
       "      <td>5812</td>\n",
       "      <td>2518</td>\n",
       "      <td>46959</td>\n",
       "    </tr>\n",
       "    <tr>\n",
       "      <th>4</th>\n",
       "      <td>Anderson County</td>\n",
       "      <td>5</td>\n",
       "      <td>58059</td>\n",
       "      <td>2999</td>\n",
       "      <td>5796</td>\n",
       "      <td>2456</td>\n",
       "      <td>46808</td>\n",
       "    </tr>\n",
       "  </tbody>\n",
       "</table>\n",
       "</div>"
      ],
      "text/plain": [
       "           CTYNAME  YEAR  POPESTIMATE  UNDER5_TOT  AGE513_TOT  AGE1417_TOT  \\\n",
       "0  Anderson County     1        58458        3135        5805         2535   \n",
       "1  Anderson County     2        58452        3135        5804         2534   \n",
       "2  Anderson County     3        58493        3129        5780         2526   \n",
       "3  Anderson County     4        58394        3105        5812         2518   \n",
       "4  Anderson County     5        58059        2999        5796         2456   \n",
       "\n",
       "   Driving_pop  \n",
       "0        46983  \n",
       "1        46979  \n",
       "2        47058  \n",
       "3        46959  \n",
       "4        46808  "
      ]
     },
     "execution_count": 7,
     "metadata": {},
     "output_type": "execute_result"
    }
   ],
   "source": [
    "#Pulling in relavent columns\n",
    "county_pop_df = county_pop_df[['CTYNAME', 'YEAR', 'POPESTIMATE',\n",
    "                              'UNDER5_TOT', 'AGE513_TOT', 'AGE1417_TOT']]\n",
    "#Calculating the # of people within driving age\n",
    "county_pop_df[\"Driving_pop\"] = county_pop_df['POPESTIMATE'] - county_pop_df['UNDER5_TOT'] - county_pop_df['AGE513_TOT'] - county_pop_df['AGE1417_TOT']\n",
    "county_pop_df.head()"
   ]
  },
  {
   "cell_type": "markdown",
   "metadata": {},
   "source": [
    "Only needed one year of population data and the counties where an accident occurred. Created a for loop to pull that specific data from the population dataset."
   ]
  },
  {
   "cell_type": "code",
   "execution_count": 8,
   "metadata": {},
   "outputs": [],
   "source": [
    "#pulling out specific county data from population list that equals to year 11 (2018) and the counties where accidents occurred\n",
    "full_county_list = texas_accidents_df[\"County\"].unique()\n",
    "drive_pop_list = []\n",
    "county_list = []\n",
    "total_population = []\n",
    "for county in full_county_list:\n",
    "    for index, pop in county_pop_df.iterrows():\n",
    "        if county_pop_df.loc[index, 'CTYNAME'] == county + \" County\" and county_pop_df.loc[index, \"YEAR\"] ==11:\n",
    "            drive_pop_list.append(county_pop_df.loc[index, 'Driving_pop'])\n",
    "            county_list.append(county)\n",
    "            total_population.append(county_pop_df.loc[index, \"POPESTIMATE\"])\n",
    "            "
   ]
  },
  {
   "cell_type": "markdown",
   "metadata": {},
   "source": [
    "#### New Dataframe for the rest of the analysis\n",
    "\n",
    "Included a new column that calculated the percentage of accidents per 1000 people within driving age population."
   ]
  },
  {
   "cell_type": "code",
   "execution_count": 9,
   "metadata": {},
   "outputs": [
    {
     "data": {
      "text/html": [
       "<div>\n",
       "<style scoped>\n",
       "    .dataframe tbody tr th:only-of-type {\n",
       "        vertical-align: middle;\n",
       "    }\n",
       "\n",
       "    .dataframe tbody tr th {\n",
       "        vertical-align: top;\n",
       "    }\n",
       "\n",
       "    .dataframe thead th {\n",
       "        text-align: right;\n",
       "    }\n",
       "</style>\n",
       "<table border=\"1\" class=\"dataframe\">\n",
       "  <thead>\n",
       "    <tr style=\"text-align: right;\">\n",
       "      <th></th>\n",
       "      <th>County</th>\n",
       "      <th>Total_Population</th>\n",
       "      <th>Driving_Age_Population</th>\n",
       "      <th>Time</th>\n",
       "      <th>perc_by_1000_pop</th>\n",
       "    </tr>\n",
       "  </thead>\n",
       "  <tbody>\n",
       "    <tr>\n",
       "      <th>38</th>\n",
       "      <td>Kimble</td>\n",
       "      <td>4338</td>\n",
       "      <td>3568</td>\n",
       "      <td>3</td>\n",
       "      <td>84.0</td>\n",
       "    </tr>\n",
       "    <tr>\n",
       "      <th>8</th>\n",
       "      <td>Childress</td>\n",
       "      <td>7315</td>\n",
       "      <td>5879</td>\n",
       "      <td>1</td>\n",
       "      <td>17.0</td>\n",
       "    </tr>\n",
       "    <tr>\n",
       "      <th>39</th>\n",
       "      <td>La Salle</td>\n",
       "      <td>7493</td>\n",
       "      <td>6013</td>\n",
       "      <td>1</td>\n",
       "      <td>17.0</td>\n",
       "    </tr>\n",
       "    <tr>\n",
       "      <th>23</th>\n",
       "      <td>Goliad</td>\n",
       "      <td>7588</td>\n",
       "      <td>5972</td>\n",
       "      <td>1</td>\n",
       "      <td>17.0</td>\n",
       "    </tr>\n",
       "    <tr>\n",
       "      <th>15</th>\n",
       "      <td>Dimmit</td>\n",
       "      <td>10195</td>\n",
       "      <td>7260</td>\n",
       "      <td>1</td>\n",
       "      <td>14.0</td>\n",
       "    </tr>\n",
       "    <tr>\n",
       "      <th>...</th>\n",
       "      <td>...</td>\n",
       "      <td>...</td>\n",
       "      <td>...</td>\n",
       "      <td>...</td>\n",
       "      <td>...</td>\n",
       "    </tr>\n",
       "    <tr>\n",
       "      <th>63</th>\n",
       "      <td>Travis</td>\n",
       "      <td>1246572</td>\n",
       "      <td>976895</td>\n",
       "      <td>1682</td>\n",
       "      <td>172.0</td>\n",
       "    </tr>\n",
       "    <tr>\n",
       "      <th>3</th>\n",
       "      <td>Bexar</td>\n",
       "      <td>1981187</td>\n",
       "      <td>1475472</td>\n",
       "      <td>871</td>\n",
       "      <td>59.0</td>\n",
       "    </tr>\n",
       "    <tr>\n",
       "      <th>60</th>\n",
       "      <td>Tarrant</td>\n",
       "      <td>2081446</td>\n",
       "      <td>1534171</td>\n",
       "      <td>342</td>\n",
       "      <td>22.0</td>\n",
       "    </tr>\n",
       "    <tr>\n",
       "      <th>13</th>\n",
       "      <td>Dallas</td>\n",
       "      <td>2629350</td>\n",
       "      <td>1942201</td>\n",
       "      <td>1806</td>\n",
       "      <td>93.0</td>\n",
       "    </tr>\n",
       "    <tr>\n",
       "      <th>28</th>\n",
       "      <td>Harris</td>\n",
       "      <td>4680045</td>\n",
       "      <td>3432888</td>\n",
       "      <td>1519</td>\n",
       "      <td>44.0</td>\n",
       "    </tr>\n",
       "  </tbody>\n",
       "</table>\n",
       "<p>67 rows × 5 columns</p>\n",
       "</div>"
      ],
      "text/plain": [
       "       County  Total_Population  Driving_Age_Population  Time  \\\n",
       "38     Kimble              4338                    3568     3   \n",
       "8   Childress              7315                    5879     1   \n",
       "39   La Salle              7493                    6013     1   \n",
       "23     Goliad              7588                    5972     1   \n",
       "15     Dimmit             10195                    7260     1   \n",
       "..        ...               ...                     ...   ...   \n",
       "63     Travis           1246572                  976895  1682   \n",
       "3       Bexar           1981187                 1475472   871   \n",
       "60    Tarrant           2081446                 1534171   342   \n",
       "13     Dallas           2629350                 1942201  1806   \n",
       "28     Harris           4680045                 3432888  1519   \n",
       "\n",
       "    perc_by_1000_pop  \n",
       "38              84.0  \n",
       "8               17.0  \n",
       "39              17.0  \n",
       "23              17.0  \n",
       "15              14.0  \n",
       "..               ...  \n",
       "63             172.0  \n",
       "3               59.0  \n",
       "60              22.0  \n",
       "13              93.0  \n",
       "28              44.0  \n",
       "\n",
       "[67 rows x 5 columns]"
      ]
     },
     "execution_count": 9,
     "metadata": {},
     "output_type": "execute_result"
    }
   ],
   "source": [
    "#creating dataframe with counties and population\n",
    "county_pop_accident_df = pd.DataFrame({'County':county_list,\n",
    "                                       \"Total_Population\":total_population,\n",
    "                                      'Driving_Age_Population':drive_pop_list\n",
    "                                     }) \n",
    "county_pop_accident_df = pd.merge(county_pop_accident_df, count_per_county, on='County')\n",
    "#calculating the percentage of accidents based on 1000 population\n",
    "county_pop_accident_df['perc_by_1000_pop'] = round((county_pop_accident_df['Time']/(county_pop_accident_df['Driving_Age_Population']/1000))*100, 0)\n",
    "county_pop_accident_df = county_pop_accident_df.sort_values('Total_Population')\n",
    "county_pop_accident_df"
   ]
  },
  {
   "cell_type": "markdown",
   "metadata": {},
   "source": [
    "#### Data based on County size of total population"
   ]
  },
  {
   "cell_type": "code",
   "execution_count": 10,
   "metadata": {},
   "outputs": [
    {
     "data": {
      "text/html": [
       "<div>\n",
       "<style scoped>\n",
       "    .dataframe tbody tr th:only-of-type {\n",
       "        vertical-align: middle;\n",
       "    }\n",
       "\n",
       "    .dataframe tbody tr th {\n",
       "        vertical-align: top;\n",
       "    }\n",
       "\n",
       "    .dataframe thead th {\n",
       "        text-align: right;\n",
       "    }\n",
       "</style>\n",
       "<table border=\"1\" class=\"dataframe\">\n",
       "  <thead>\n",
       "    <tr style=\"text-align: right;\">\n",
       "      <th></th>\n",
       "      <th>County</th>\n",
       "      <th>Total_Population</th>\n",
       "      <th>Driving_Age_Population</th>\n",
       "      <th>Time</th>\n",
       "      <th>perc_by_1000_pop</th>\n",
       "      <th>population_level</th>\n",
       "    </tr>\n",
       "  </thead>\n",
       "  <tbody>\n",
       "    <tr>\n",
       "      <th>38</th>\n",
       "      <td>Kimble</td>\n",
       "      <td>4338</td>\n",
       "      <td>3568</td>\n",
       "      <td>3</td>\n",
       "      <td>84.0</td>\n",
       "      <td>small</td>\n",
       "    </tr>\n",
       "    <tr>\n",
       "      <th>8</th>\n",
       "      <td>Childress</td>\n",
       "      <td>7315</td>\n",
       "      <td>5879</td>\n",
       "      <td>1</td>\n",
       "      <td>17.0</td>\n",
       "      <td>small</td>\n",
       "    </tr>\n",
       "    <tr>\n",
       "      <th>39</th>\n",
       "      <td>La Salle</td>\n",
       "      <td>7493</td>\n",
       "      <td>6013</td>\n",
       "      <td>1</td>\n",
       "      <td>17.0</td>\n",
       "      <td>small</td>\n",
       "    </tr>\n",
       "    <tr>\n",
       "      <th>23</th>\n",
       "      <td>Goliad</td>\n",
       "      <td>7588</td>\n",
       "      <td>5972</td>\n",
       "      <td>1</td>\n",
       "      <td>17.0</td>\n",
       "      <td>small</td>\n",
       "    </tr>\n",
       "    <tr>\n",
       "      <th>15</th>\n",
       "      <td>Dimmit</td>\n",
       "      <td>10195</td>\n",
       "      <td>7260</td>\n",
       "      <td>1</td>\n",
       "      <td>14.0</td>\n",
       "      <td>small</td>\n",
       "    </tr>\n",
       "    <tr>\n",
       "      <th>...</th>\n",
       "      <td>...</td>\n",
       "      <td>...</td>\n",
       "      <td>...</td>\n",
       "      <td>...</td>\n",
       "      <td>...</td>\n",
       "      <td>...</td>\n",
       "    </tr>\n",
       "    <tr>\n",
       "      <th>63</th>\n",
       "      <td>Travis</td>\n",
       "      <td>1246572</td>\n",
       "      <td>976895</td>\n",
       "      <td>1682</td>\n",
       "      <td>172.0</td>\n",
       "      <td>large</td>\n",
       "    </tr>\n",
       "    <tr>\n",
       "      <th>3</th>\n",
       "      <td>Bexar</td>\n",
       "      <td>1981187</td>\n",
       "      <td>1475472</td>\n",
       "      <td>871</td>\n",
       "      <td>59.0</td>\n",
       "      <td>large</td>\n",
       "    </tr>\n",
       "    <tr>\n",
       "      <th>60</th>\n",
       "      <td>Tarrant</td>\n",
       "      <td>2081446</td>\n",
       "      <td>1534171</td>\n",
       "      <td>342</td>\n",
       "      <td>22.0</td>\n",
       "      <td>large</td>\n",
       "    </tr>\n",
       "    <tr>\n",
       "      <th>13</th>\n",
       "      <td>Dallas</td>\n",
       "      <td>2629350</td>\n",
       "      <td>1942201</td>\n",
       "      <td>1806</td>\n",
       "      <td>93.0</td>\n",
       "      <td>large</td>\n",
       "    </tr>\n",
       "    <tr>\n",
       "      <th>28</th>\n",
       "      <td>Harris</td>\n",
       "      <td>4680045</td>\n",
       "      <td>3432888</td>\n",
       "      <td>1519</td>\n",
       "      <td>44.0</td>\n",
       "      <td>large</td>\n",
       "    </tr>\n",
       "  </tbody>\n",
       "</table>\n",
       "<p>67 rows × 6 columns</p>\n",
       "</div>"
      ],
      "text/plain": [
       "       County  Total_Population  Driving_Age_Population  Time  \\\n",
       "38     Kimble              4338                    3568     3   \n",
       "8   Childress              7315                    5879     1   \n",
       "39   La Salle              7493                    6013     1   \n",
       "23     Goliad              7588                    5972     1   \n",
       "15     Dimmit             10195                    7260     1   \n",
       "..        ...               ...                     ...   ...   \n",
       "63     Travis           1246572                  976895  1682   \n",
       "3       Bexar           1981187                 1475472   871   \n",
       "60    Tarrant           2081446                 1534171   342   \n",
       "13     Dallas           2629350                 1942201  1806   \n",
       "28     Harris           4680045                 3432888  1519   \n",
       "\n",
       "    perc_by_1000_pop population_level  \n",
       "38              84.0            small  \n",
       "8               17.0            small  \n",
       "39              17.0            small  \n",
       "23              17.0            small  \n",
       "15              14.0            small  \n",
       "..               ...              ...  \n",
       "63             172.0            large  \n",
       "3               59.0            large  \n",
       "60              22.0            large  \n",
       "13              93.0            large  \n",
       "28              44.0            large  \n",
       "\n",
       "[67 rows x 6 columns]"
      ]
     },
     "execution_count": 10,
     "metadata": {},
     "output_type": "execute_result"
    }
   ],
   "source": [
    "#created bins to compare county size\n",
    "bins = [0, 70000, 600000, 5000000]\n",
    "group_names = ['small', 'medium', 'large']\n",
    "county_pop_accident_df[\"population_level\"] = pd.cut(county_pop_accident_df[\"Total_Population\"], bins, labels=group_names, include_lowest=True)\n",
    "county_pop_accident_df"
   ]
  },
  {
   "cell_type": "markdown",
   "metadata": {},
   "source": [
    "## Conclusion I: The county(ies) with the lowest and highest accident rate.\n",
    "\n",
    "The counties with the lowest accident rate (1%) per 1000 population within the legal driving age are Nueces, Cameron, McLennan.\n",
    "\n",
    "The county with the highest accident rate (172%) per 1000 population within the legal driving age is Travis."
   ]
  },
  {
   "cell_type": "code",
   "execution_count": 11,
   "metadata": {},
   "outputs": [
    {
     "name": "stdout",
     "output_type": "stream",
     "text": [
      "The county(ies) with the lowest accident rate per 1000 population within the legal driving age is/are ['McLennan', 'Nueces', 'Cameron'].\n",
      "The county(ies) with the highest accident rate per 1000 population within the legal driving age is/are ['Travis'].\n"
     ]
    }
   ],
   "source": [
    "#for loop to pull counties that match the minimum and maximum percentage of accidents.\n",
    "min_county = []\n",
    "max_county = []\n",
    "for index, row in county_pop_accident_df.iterrows():\n",
    "    if county_pop_accident_df.loc[index, 'perc_by_1000_pop'] == county_pop_accident_df['perc_by_1000_pop'].min():\n",
    "        min_county.append(county_pop_accident_df.loc[index, 'County'])\n",
    "    if county_pop_accident_df.loc[index, 'perc_by_1000_pop'] == county_pop_accident_df['perc_by_1000_pop'].max():\n",
    "        max_county.append(county_pop_accident_df.loc[index, 'County'])\n",
    "\n",
    "print(f'The county(ies) with the lowest accident rate per 1000 population within the legal driving age is/are {min_county}.')\n",
    "print(f'The county(ies) with the highest accident rate per 1000 population within the legal driving age is/are {max_county}.')"
   ]
  },
  {
   "cell_type": "markdown",
   "metadata": {},
   "source": [
    "## Charts\n",
    "Chart I: Bar Chart showing percentage of accidents per 1000 for all counties organized by total population of county (smallest to largest). "
   ]
  },
  {
   "cell_type": "code",
   "execution_count": 12,
   "metadata": {
    "scrolled": false
   },
   "outputs": [
    {
     "data": {
      "image/png": "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\n",
      "text/plain": [
       "<Figure size 1440x576 with 1 Axes>"
      ]
     },
     "metadata": {
      "needs_background": "light"
     },
     "output_type": "display_data"
    }
   ],
   "source": [
    "x_axis = county_pop_accident_df[\"County\"]\n",
    "plt.figure(figsize=(20,8), tight_layout=True, edgecolor='grey')\n",
    "plt.xlim(-0.75, len(x_axis)-0.25)\n",
    "plt.xticks(rotation=\"vertical\")\n",
    "plt.bar(x_axis, county_pop_accident_df['perc_by_1000_pop'], color=\"darkturquoise\", edgecolor=\"black\")\n",
    "plt.title(\"Accidents per County in Texas (2018)\", fontsize=18)\n",
    "plt.ylabel(\"County\", fontsize=16)\n",
    "plt.xlabel(\"Percentage/1000 Population of Driving Age\", fontsize=16)\n",
    "plt.savefig(\"Images/accident_per_county_bar.png\")\n",
    "plt.show()"
   ]
  },
  {
   "cell_type": "markdown",
   "metadata": {},
   "source": [
    "#### Splitting up first bar chart by county size\n",
    "\n",
    "Organizing data by bins with counts and county names."
   ]
  },
  {
   "cell_type": "code",
   "execution_count": 13,
   "metadata": {},
   "outputs": [],
   "source": [
    "#Getting data for each bin based on county size\n",
    "small_x_axis = []\n",
    "small_y_axis = []\n",
    "medium_x_axis = []\n",
    "medium_y_axis = []\n",
    "large_x_axis = []\n",
    "large_y_axis= []\n",
    "for index, row in county_pop_accident_df.iterrows():\n",
    "    if county_pop_accident_df.loc[index, \"population_level\"] == \"small\":\n",
    "        small_x_axis.append(county_pop_accident_df.loc[index, 'County'])\n",
    "        small_y_axis.append(county_pop_accident_df.loc[index, 'perc_by_1000_pop'])\n",
    "    elif county_pop_accident_df.loc[index, 'population_level'] == \"medium\":\n",
    "        medium_x_axis.append(county_pop_accident_df.loc[index, 'County'])\n",
    "        medium_y_axis.append(county_pop_accident_df.loc[index, 'perc_by_1000_pop'])\n",
    "    else:\n",
    "        large_x_axis.append(county_pop_accident_df.loc[index, 'County'])\n",
    "        large_y_axis.append(county_pop_accident_df.loc[index, 'perc_by_1000_pop'])\n",
    "       \n",
    "                                                    "
   ]
  },
  {
   "cell_type": "markdown",
   "metadata": {},
   "source": [
    "Chart II: Bar Chart showing percentage of accidents per 1000 for small-sized counties with a total population of under 70,000."
   ]
  },
  {
   "cell_type": "code",
   "execution_count": 14,
   "metadata": {},
   "outputs": [
    {
     "data": {
      "image/png": "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\n",
      "text/plain": [
       "<Figure size 720x576 with 1 Axes>"
      ]
     },
     "metadata": {
      "needs_background": "light"
     },
     "output_type": "display_data"
    }
   ],
   "source": [
    "plt.figure(figsize=(10,8), tight_layout=True, edgecolor='grey')\n",
    "plt.xlim(-0.75, len(small_x_axis)-0.25)\n",
    "plt.xticks(rotation=\"vertical\")\n",
    "plt.bar(small_x_axis, small_y_axis, color=\"darkturquoise\", edgecolor=\"black\")\n",
    "plt.title(\"Accidents per County in Texas (2018)\\n Small-sized Counties < 70000\", fontsize=18)\n",
    "plt.ylabel(\"County\", fontsize=16)\n",
    "plt.xlabel(\"Percentage/1000 Population of Driving Age\", fontsize=16)\n",
    "plt.savefig(\"Images/accident_per_small_county_bar.png\")\n",
    "plt.show()"
   ]
  },
  {
   "cell_type": "markdown",
   "metadata": {},
   "source": [
    "Chart III: Bar Chart showing percentage of accidents per 1000 for medium-sized counties with a total population of 70,000-500000."
   ]
  },
  {
   "cell_type": "code",
   "execution_count": 15,
   "metadata": {},
   "outputs": [
    {
     "data": {
      "image/png": "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\n",
      "text/plain": [
       "<Figure size 720x576 with 1 Axes>"
      ]
     },
     "metadata": {
      "needs_background": "light"
     },
     "output_type": "display_data"
    }
   ],
   "source": [
    "plt.figure(figsize=(10,8), tight_layout=True, edgecolor='grey')\n",
    "plt.xlim(-0.75, len(medium_x_axis)-0.25)\n",
    "plt.xticks(rotation=\"vertical\")\n",
    "plt.bar(medium_x_axis, medium_y_axis, color=\"darkturquoise\", edgecolor=\"black\")\n",
    "plt.title(\"Accidents per County in Texas (2018)\\n Medium-sized Counties, 70000-500000\", fontsize=18)\n",
    "plt.ylabel(\"County\", fontsize=16)\n",
    "plt.xlabel(\"Percentage/1000 Population of Driving Age\", fontsize=16)\n",
    "plt.savefig(\"Images/accident_per_medium_county_bar.png\")\n",
    "plt.show()"
   ]
  },
  {
   "cell_type": "markdown",
   "metadata": {},
   "source": [
    "Chart IV: Bar Chart showing percentage of accidents per 1000 for large-sized counties with a total population of 500001 or more."
   ]
  },
  {
   "cell_type": "code",
   "execution_count": 16,
   "metadata": {},
   "outputs": [
    {
     "data": {
      "image/png": "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\n",
      "text/plain": [
       "<Figure size 720x576 with 1 Axes>"
      ]
     },
     "metadata": {
      "needs_background": "light"
     },
     "output_type": "display_data"
    }
   ],
   "source": [
    "plt.figure(figsize=(10,8), tight_layout=True, edgecolor='grey')\n",
    "plt.xlim(-0.75, len(large_x_axis)-0.25)\n",
    "plt.xticks(rotation=\"vertical\")\n",
    "plt.bar(large_x_axis, large_y_axis, color=\"darkturquoise\", edgecolor=\"black\")\n",
    "plt.title(\"Accidents per County in Texas (2018)\\n Large-sized Counties > 500000\", fontsize=18)\n",
    "plt.ylabel(\"County\", fontsize=16)\n",
    "plt.xlabel(\"Percentage/1000 Population of Driving Age\", fontsize=16)\n",
    "plt.savefig(\"Images/accident_per_large_county_bar.png\")\n",
    "plt.show()"
   ]
  },
  {
   "cell_type": "markdown",
   "metadata": {},
   "source": [
    "#### Data needed for heatmap\n",
    "\n",
    "Getting central latitude and longitude for each county."
   ]
  },
  {
   "cell_type": "code",
   "execution_count": 17,
   "metadata": {},
   "outputs": [],
   "source": [
    "#Retrieving latitude and longtitude for each county through Google Maps API\n",
    "lat = []\n",
    "lng = []\n",
    "for county in county_list:\n",
    "    components = \"components=country:US|administrative_area:\" + county + \",TX\"\n",
    "    base_url = \"https://maps.googleapis.com/maps/api/geocode/json?key=\" + g_key + \"&\" + components\n",
    "    county_data = requests.get(base_url).json()\n",
    "    lat.append(county_data['results'][0]['geometry']['location'][\"lat\"])\n",
    "    lng.append(county_data['results'][0]['geometry']['location'][\"lng\"])\n",
    "    "
   ]
  },
  {
   "cell_type": "code",
   "execution_count": 30,
   "metadata": {},
   "outputs": [],
   "source": [
    "#adding county latitude and longitude to dataframe\n",
    "county_pop_accident_df[\"Latitude\"] = lat\n",
    "county_pop_accident_df['Longitude'] = lng\n"
   ]
  },
  {
   "cell_type": "markdown",
   "metadata": {},
   "source": [
    "Chart V: HeatMap showing concentration of accident percentage over state of Texas based on counties."
   ]
  },
  {
   "cell_type": "code",
   "execution_count": 19,
   "metadata": {
    "scrolled": true
   },
   "outputs": [
    {
     "data": {
      "application/vnd.jupyter.widget-view+json": {
       "model_id": "54c6234c7e984d11a672cc0920575dfa",
       "version_major": 2,
       "version_minor": 0
      },
      "text/plain": [
       "Figure(layout=FigureLayout(border='1px solid black', height='550px', width='550px'))"
      ]
     },
     "metadata": {},
     "output_type": "display_data"
    }
   ],
   "source": [
    "gmaps.configure(api_key=g_key)\n",
    "layout={'width': '550px', 'height': '550px', 'border': '1px solid black'} \n",
    "\n",
    "accidents = county_pop_accident_df['perc_by_1000_pop']\n",
    "locations = county_pop_accident_df[[\"Latitude\", \"Longitude\"]]\n",
    "fig = gmaps.figure(zoom_level=5, center = (31,-100), layout=layout)\n",
    "\n",
    "heat_layer = gmaps.heatmap_layer(locations, weights=accidents, \n",
    "                                 dissipating=False, max_intensity=180,\n",
    "                                 point_radius=1)\n",
    "\n",
    "\n",
    "# Add layer\n",
    "fig.add_layer(heat_layer)\n",
    "\n",
    "# Display figure\n",
    "fig"
   ]
  },
  {
   "cell_type": "markdown",
   "metadata": {},
   "source": [
    "## Statistical Analysis using Chi Square"
   ]
  },
  {
   "cell_type": "markdown",
   "metadata": {},
   "source": [
    "Getting sums and counts based on grouped data by county size."
   ]
  },
  {
   "cell_type": "code",
   "execution_count": 20,
   "metadata": {},
   "outputs": [],
   "source": [
    "group_county_size_df = county_pop_accident_df.groupby('population_level')\n",
    "total_acc_county_size = group_county_size_df.sum()\n",
    "total_pop = total_acc_county_size[\"Total_Population\"].tolist()\n",
    "tot_drv_pop = total_acc_county_size[\"Driving_Age_Population\"].tolist()\n",
    "tot_acc = total_acc_county_size[\"Time\"].tolist()\n",
    "total_nu_counties = group_county_size_df.count()\n",
    "total_nu_counties = total_nu_counties[\"Time\"].tolist()\n"
   ]
  },
  {
   "cell_type": "markdown",
   "metadata": {},
   "source": [
    "Creating new dataframe for statistical analysis."
   ]
  },
  {
   "cell_type": "code",
   "execution_count": 31,
   "metadata": {},
   "outputs": [],
   "source": [
    "#putting lists into dataframe\n",
    "total_acc_county_size = pd.DataFrame({'Total_Population': total_pop, \n",
    "                                      'Total_Driving_Age_Population':tot_drv_pop, \n",
    "                                      'Number_of_Accidents':tot_acc, \n",
    "                                      'Number_of_Counties':total_nu_counties}, index=['small', 'medium', 'large'])"
   ]
  },
  {
   "cell_type": "code",
   "execution_count": 32,
   "metadata": {},
   "outputs": [
    {
     "data": {
      "text/plain": [
       "7022"
      ]
     },
     "execution_count": 32,
     "metadata": {},
     "output_type": "execute_result"
    }
   ],
   "source": [
    "#calculating total number of accidents in texas\n",
    "total_acc_tx = total_acc_county_size['Number_of_Accidents'].sum()\n",
    "total_acc_tx"
   ]
  },
  {
   "cell_type": "markdown",
   "metadata": {},
   "source": [
    "Adding calculated column showing the observed number of accidents per county size and the expected number to test chi square stats."
   ]
  },
  {
   "cell_type": "code",
   "execution_count": 33,
   "metadata": {},
   "outputs": [
    {
     "data": {
      "text/html": [
       "<div>\n",
       "<style scoped>\n",
       "    .dataframe tbody tr th:only-of-type {\n",
       "        vertical-align: middle;\n",
       "    }\n",
       "\n",
       "    .dataframe tbody tr th {\n",
       "        vertical-align: top;\n",
       "    }\n",
       "\n",
       "    .dataframe thead th {\n",
       "        text-align: right;\n",
       "    }\n",
       "</style>\n",
       "<table border=\"1\" class=\"dataframe\">\n",
       "  <thead>\n",
       "    <tr style=\"text-align: right;\">\n",
       "      <th></th>\n",
       "      <th>Total_Population</th>\n",
       "      <th>Total_Driving_Age_Population</th>\n",
       "      <th>Number_of_Accidents</th>\n",
       "      <th>Number_of_Counties</th>\n",
       "      <th>% of accidents in Texas</th>\n",
       "      <th>expected %</th>\n",
       "    </tr>\n",
       "  </thead>\n",
       "  <tbody>\n",
       "    <tr>\n",
       "      <th>small</th>\n",
       "      <td>848537</td>\n",
       "      <td>637724</td>\n",
       "      <td>56</td>\n",
       "      <td>29</td>\n",
       "      <td>0.007975</td>\n",
       "      <td>0.1</td>\n",
       "    </tr>\n",
       "    <tr>\n",
       "      <th>medium</th>\n",
       "      <td>5993244</td>\n",
       "      <td>4447660</td>\n",
       "      <td>314</td>\n",
       "      <td>28</td>\n",
       "      <td>0.044717</td>\n",
       "      <td>0.1</td>\n",
       "    </tr>\n",
       "    <tr>\n",
       "      <th>large</th>\n",
       "      <td>16968852</td>\n",
       "      <td>12514672</td>\n",
       "      <td>6652</td>\n",
       "      <td>10</td>\n",
       "      <td>0.947308</td>\n",
       "      <td>0.8</td>\n",
       "    </tr>\n",
       "  </tbody>\n",
       "</table>\n",
       "</div>"
      ],
      "text/plain": [
       "        Total_Population  Total_Driving_Age_Population  Number_of_Accidents  \\\n",
       "small             848537                        637724                   56   \n",
       "medium           5993244                       4447660                  314   \n",
       "large           16968852                      12514672                 6652   \n",
       "\n",
       "        Number_of_Counties  % of accidents in Texas  expected %  \n",
       "small                   29                 0.007975         0.1  \n",
       "medium                  28                 0.044717         0.1  \n",
       "large                   10                 0.947308         0.8  "
      ]
     },
     "execution_count": 33,
     "metadata": {},
     "output_type": "execute_result"
    }
   ],
   "source": [
    "#adding % of accidents actual and expected to calculate chi-square\n",
    "total_acc_county_size['% of accidents in Texas'] = total_acc_county_size['Number_of_Accidents']/total_acc_tx\n",
    "total_acc_county_size['expected %'] = [.1, .1, .8]\n",
    "total_acc_county_size"
   ]
  },
  {
   "cell_type": "markdown",
   "metadata": {},
   "source": [
    "Calculating chi square."
   ]
  },
  {
   "cell_type": "code",
   "execution_count": 34,
   "metadata": {},
   "outputs": [
    {
     "name": "stdout",
     "output_type": "stream",
     "text": [
      "The critical value is 5.991464547107979.\n"
     ]
    }
   ],
   "source": [
    "#the degree of freedom is 3-1=2\n",
    "# With a p-value of 0.05, the confidence level is 1.00-0.05 = 0.95.\n",
    "critical_value = stats.chi2.ppf(q = 0.95, df = 2)\n",
    "print(f'The critical value is {critical_value}.')"
   ]
  },
  {
   "cell_type": "code",
   "execution_count": 29,
   "metadata": {},
   "outputs": [
    {
     "data": {
      "text/plain": [
       "Power_divergenceResult(statistic=0.14237338953677825, pvalue=0.9312880092973904)"
      ]
     },
     "execution_count": 29,
     "metadata": {},
     "output_type": "execute_result"
    }
   ],
   "source": [
    "# Run the chi square test with stats.chisquare()\n",
    "stats.chisquare(total_acc_county_size['% of accidents in Texas'], total_acc_county_size['expected %'])"
   ]
  },
  {
   "cell_type": "markdown",
   "metadata": {},
   "source": [
    "## Conclusion II:\n",
    "\n",
    "Since the value of the chi square is 0.14 and is less than the critical value of 5.99, we can conclude that the results are not statistically significant. This proves our hypothesis to be correct. The larger the counties, the more accidents that will occur."
   ]
  },
  {
   "cell_type": "code",
   "execution_count": null,
   "metadata": {
    "collapsed": true,
    "deletable": true,
    "editable": true
   },
   "outputs": [],
   "source": []
  }
 ],
 "metadata": {
  "kernelspec": {
<<<<<<< HEAD
   "display_name": "myenv--PythonData",
   "language": "python",
   "name": "myenv--pythondata"
=======
   "display_name": "Python [conda env:PythonData] *",
   "language": "python",
   "name": "conda-env-PythonData-py"
>>>>>>> a97fddeb39d4e18aecb9c57f8d8d9ee807f9f604
  },
  "language_info": {
   "codemirror_mode": {
    "name": "ipython",
    "version": 3
   },
   "file_extension": ".py",
   "mimetype": "text/x-python",
   "name": "python",
   "nbconvert_exporter": "python",
   "pygments_lexer": "ipython3",
   "version": "3.6.10"
  }
 },
 "nbformat": 4,
 "nbformat_minor": 4
}
