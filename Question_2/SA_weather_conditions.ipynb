{
 "cells": [
  {
   "cell_type": "code",
   "execution_count": 62,
   "metadata": {},
   "outputs": [],
   "source": [
    "import pandas as pd\n",
    "import matplotlib.pyplot as plt\n",
    "import gmaps\n",
    "import requests\n",
    "import scipy.stats as stats\n",
    "from scipy.stats import linregress\n",
    "#from api_key import api_key"
   ]
  },
  {
   "cell_type": "markdown",
   "metadata": {},
   "source": [
    "# Comparison of Number of Traffic Accidents per Weather Condition in San Antonio, TX.\n",
    "\n",
    "The question: What is the best weather condition to drive in?\n",
    "\n",
    "The Hypothesis: The worse the weather conditions, the more accidents that occur."
   ]
  },
  {
   "cell_type": "markdown",
   "metadata": {},
   "source": [
    "## Dataset: US Accidents (4.2 million records)\n",
    "Source:https://www.kaggle.com/sobhanmoosavi/us-accidents\n",
    "\n",
    "Description: Reported accidents over US from 2016-Dec 2020, includes location of accident, date of the occurance, weather at time of the accident, and other variables."
   ]
  },
  {
   "cell_type": "markdown",
   "metadata": {},
   "source": [
    "## Cleaned CSV: cleaned_2018_texas_accidents.csv\n",
    "Data Extrapilated: Accidents that occurred in Texas in 2018, including the weather, location and time of occurance.\n",
    "\n",
    "Refer to cleaning_csv.ipynb"
   ]
  },
  {
   "cell_type": "code",
   "execution_count": 2,
   "metadata": {},
   "outputs": [
    {
     "data": {
      "text/html": [
       "<div>\n",
       "<style scoped>\n",
       "    .dataframe tbody tr th:only-of-type {\n",
       "        vertical-align: middle;\n",
       "    }\n",
       "\n",
       "    .dataframe tbody tr th {\n",
       "        vertical-align: top;\n",
       "    }\n",
       "\n",
       "    .dataframe thead th {\n",
       "        text-align: right;\n",
       "    }\n",
       "</style>\n",
       "<table border=\"1\" class=\"dataframe\">\n",
       "  <thead>\n",
       "    <tr style=\"text-align: right;\">\n",
       "      <th></th>\n",
       "      <th>Unnamed: 0</th>\n",
       "      <th>Time</th>\n",
       "      <th>Latitude</th>\n",
       "      <th>Longitude</th>\n",
       "      <th>City</th>\n",
       "      <th>County</th>\n",
       "      <th>State</th>\n",
       "      <th>Zipcode</th>\n",
       "      <th>Temperature(F)</th>\n",
       "      <th>Humidity(%)</th>\n",
       "      <th>Pressure(in)</th>\n",
       "      <th>Visibility(mi)</th>\n",
       "      <th>Wind_Speed(mph)</th>\n",
       "      <th>Precipitation(in)</th>\n",
       "      <th>Weather_Condition</th>\n",
       "      <th>Year</th>\n",
       "      <th>Month</th>\n",
       "      <th>Day</th>\n",
       "    </tr>\n",
       "  </thead>\n",
       "  <tbody>\n",
       "    <tr>\n",
       "      <th>0</th>\n",
       "      <td>195997</td>\n",
       "      <td>2018-11-30 04:04:00</td>\n",
       "      <td>29.354069</td>\n",
       "      <td>-98.400734</td>\n",
       "      <td>San Antonio</td>\n",
       "      <td>Bexar</td>\n",
       "      <td>TX</td>\n",
       "      <td>78222</td>\n",
       "      <td>66.9</td>\n",
       "      <td>90.0</td>\n",
       "      <td>29.79</td>\n",
       "      <td>8.0</td>\n",
       "      <td>4.6</td>\n",
       "      <td>0.0</td>\n",
       "      <td>Overcast</td>\n",
       "      <td>2018</td>\n",
       "      <td>11</td>\n",
       "      <td>30</td>\n",
       "    </tr>\n",
       "    <tr>\n",
       "      <th>1</th>\n",
       "      <td>195998</td>\n",
       "      <td>2018-11-30 04:03:22</td>\n",
       "      <td>29.452906</td>\n",
       "      <td>-98.501022</td>\n",
       "      <td>San Antonio</td>\n",
       "      <td>Bexar</td>\n",
       "      <td>TX</td>\n",
       "      <td>78212-3329</td>\n",
       "      <td>64.9</td>\n",
       "      <td>97.0</td>\n",
       "      <td>29.79</td>\n",
       "      <td>3.0</td>\n",
       "      <td>6.9</td>\n",
       "      <td>0.0</td>\n",
       "      <td>Overcast</td>\n",
       "      <td>2018</td>\n",
       "      <td>11</td>\n",
       "      <td>30</td>\n",
       "    </tr>\n",
       "    <tr>\n",
       "      <th>2</th>\n",
       "      <td>196000</td>\n",
       "      <td>2018-11-30 04:03:04</td>\n",
       "      <td>29.483614</td>\n",
       "      <td>-98.403198</td>\n",
       "      <td>San Antonio</td>\n",
       "      <td>Bexar</td>\n",
       "      <td>TX</td>\n",
       "      <td>78218</td>\n",
       "      <td>64.9</td>\n",
       "      <td>97.0</td>\n",
       "      <td>29.79</td>\n",
       "      <td>3.0</td>\n",
       "      <td>6.9</td>\n",
       "      <td>0.0</td>\n",
       "      <td>Overcast</td>\n",
       "      <td>2018</td>\n",
       "      <td>11</td>\n",
       "      <td>30</td>\n",
       "    </tr>\n",
       "    <tr>\n",
       "      <th>3</th>\n",
       "      <td>196019</td>\n",
       "      <td>2018-11-30 11:03:46</td>\n",
       "      <td>29.494801</td>\n",
       "      <td>-98.535782</td>\n",
       "      <td>San Antonio</td>\n",
       "      <td>Bexar</td>\n",
       "      <td>TX</td>\n",
       "      <td>78213-3947</td>\n",
       "      <td>68.0</td>\n",
       "      <td>87.0</td>\n",
       "      <td>29.79</td>\n",
       "      <td>10.0</td>\n",
       "      <td>8.1</td>\n",
       "      <td>0.0</td>\n",
       "      <td>Light Drizzle</td>\n",
       "      <td>2018</td>\n",
       "      <td>11</td>\n",
       "      <td>30</td>\n",
       "    </tr>\n",
       "    <tr>\n",
       "      <th>4</th>\n",
       "      <td>196021</td>\n",
       "      <td>2018-11-30 11:15:14</td>\n",
       "      <td>29.493256</td>\n",
       "      <td>-98.499268</td>\n",
       "      <td>San Antonio</td>\n",
       "      <td>Bexar</td>\n",
       "      <td>TX</td>\n",
       "      <td>78216-7205</td>\n",
       "      <td>68.0</td>\n",
       "      <td>87.0</td>\n",
       "      <td>29.79</td>\n",
       "      <td>10.0</td>\n",
       "      <td>8.1</td>\n",
       "      <td>0.0</td>\n",
       "      <td>Light Drizzle</td>\n",
       "      <td>2018</td>\n",
       "      <td>11</td>\n",
       "      <td>30</td>\n",
       "    </tr>\n",
       "  </tbody>\n",
       "</table>\n",
       "</div>"
      ],
      "text/plain": [
       "   Unnamed: 0                 Time   Latitude  Longitude         City County  \\\n",
       "0      195997  2018-11-30 04:04:00  29.354069 -98.400734  San Antonio  Bexar   \n",
       "1      195998  2018-11-30 04:03:22  29.452906 -98.501022  San Antonio  Bexar   \n",
       "2      196000  2018-11-30 04:03:04  29.483614 -98.403198  San Antonio  Bexar   \n",
       "3      196019  2018-11-30 11:03:46  29.494801 -98.535782  San Antonio  Bexar   \n",
       "4      196021  2018-11-30 11:15:14  29.493256 -98.499268  San Antonio  Bexar   \n",
       "\n",
       "  State     Zipcode  Temperature(F)  Humidity(%)  Pressure(in)  \\\n",
       "0    TX       78222            66.9         90.0         29.79   \n",
       "1    TX  78212-3329            64.9         97.0         29.79   \n",
       "2    TX       78218            64.9         97.0         29.79   \n",
       "3    TX  78213-3947            68.0         87.0         29.79   \n",
       "4    TX  78216-7205            68.0         87.0         29.79   \n",
       "\n",
       "   Visibility(mi)  Wind_Speed(mph)  Precipitation(in) Weather_Condition  Year  \\\n",
       "0             8.0              4.6                0.0          Overcast  2018   \n",
       "1             3.0              6.9                0.0          Overcast  2018   \n",
       "2             3.0              6.9                0.0          Overcast  2018   \n",
       "3            10.0              8.1                0.0     Light Drizzle  2018   \n",
       "4            10.0              8.1                0.0     Light Drizzle  2018   \n",
       "\n",
       "   Month  Day  \n",
       "0     11   30  \n",
       "1     11   30  \n",
       "2     11   30  \n",
       "3     11   30  \n",
       "4     11   30  "
      ]
     },
     "execution_count": 2,
     "metadata": {},
     "output_type": "execute_result"
    }
   ],
   "source": [
    "csv_read = pd.read_csv(\"../cleaned_2018_texas_accidents.csv\")\n",
    "texas_accidents_df = pd.DataFrame(csv_read)\n",
    "texas_accidents_df.head()"
   ]
  },
  {
   "cell_type": "markdown",
   "metadata": {},
   "source": [
    "#### Pulled out accidents that only occured with San Antonio\n",
    "\n",
    "Grouped by weather condition to get count of accidents."
   ]
  },
  {
   "cell_type": "code",
   "execution_count": 3,
   "metadata": {},
   "outputs": [
    {
     "data": {
      "text/plain": [
       "Weather_Condition\n",
       "Clear                            17\n",
       "Fog                               5\n",
       "Haze                              1\n",
       "Heavy Rain                       30\n",
       "Heavy Thunderstorms and Rain     15\n",
       "Light Drizzle                    65\n",
       "Light Freezing Rain               9\n",
       "Light Rain                      379\n",
       "Light Snow                        3\n",
       "Light Thunderstorms and Rain     23\n",
       "Mostly Cloudy                    41\n",
       "Overcast                        200\n",
       "Partly Cloudy                     6\n",
       "Rain                             36\n",
       "Scattered Clouds                 10\n",
       "Thunderstorm                      3\n",
       "Thunderstorms and Rain           11\n",
       "Name: Time, dtype: int64"
      ]
     },
     "execution_count": 3,
     "metadata": {},
     "output_type": "execute_result"
    }
   ],
   "source": [
    "# san antonio accident data\n",
    "sa_df = texas_accidents_df.loc[texas_accidents_df['City']=='San Antonio']\n",
    "sa_weather1 = sa_df.groupby('Weather_Condition')\n",
    "sa_weather = sa_weather1['Time'].count()\n",
    "sa_weather"
   ]
  },
  {
   "cell_type": "markdown",
   "metadata": {},
   "source": [
    "## Charts based on data"
   ]
  },
  {
   "cell_type": "markdown",
   "metadata": {},
   "source": [
    "Chart I: Bar chart showing the number of accidents per weather condition."
   ]
  },
  {
   "cell_type": "code",
   "execution_count": 4,
   "metadata": {},
   "outputs": [],
   "source": [
    "x_axis = sa_weather.index.to_list"
   ]
  },
  {
   "cell_type": "code",
   "execution_count": 11,
   "metadata": {},
   "outputs": [
    {
     "data": {
      "image/png": "[encoded data removed]",
      "text/plain": [
       "<Figure size 576x576 with 1 Axes>"
      ]
     },
     "metadata": {
      "needs_background": "light"
     },
     "output_type": "display_data"
    }
   ],
   "source": [
    "sa_weather_chart = sa_weather.plot.barh(x=x_axis, figsize=(8, 8), title='Number of Accidents per Weather Condition in San Antonio (2018)')\n",
    "sa_weather_chart.set_xlabel(\"Number of Accidents\", fontsize=14)\n",
    "sa_weather_chart.set_ylabel(\"Weather Condition\", fontsize=14)\n",
    "plt.savefig(\"Images/accident_per_weather_bar.png\")\n",
    "plt.show()"
   ]
  },
  {
   "cell_type": "markdown",
   "metadata": {},
   "source": [
    "### Accidents based on visibility conditions\n",
    "\n",
    "Grouped dataframe based on visibility column for charting."
   ]
  },
  {
   "cell_type": "code",
   "execution_count": 41,
   "metadata": {},
   "outputs": [
    {
     "data": {
      "text/plain": [
       "Visibility(mi)\n",
       "0.1      17\n",
       "0.2       8\n",
       "0.4       1\n",
       "0.5       7\n",
       "0.8      12\n",
       "0.9       1\n",
       "1.0      21\n",
       "1.2       1\n",
       "1.5       8\n",
       "1.8      11\n",
       "2.0      51\n",
       "2.5      11\n",
       "3.0      53\n",
       "4.0      50\n",
       "5.0      44\n",
       "6.0      40\n",
       "7.0      44\n",
       "8.0      41\n",
       "9.0      24\n",
       "10.0    409\n",
       "Name: Time, dtype: int64"
      ]
     },
     "execution_count": 41,
     "metadata": {},
     "output_type": "execute_result"
    }
   ],
   "source": [
    "sa_visibility = sa_df.groupby('Visibility(mi)')\n",
    "sa_visibility = sa_visibility['Time'].count()\n",
    "sa_visibility\n"
   ]
  },
  {
   "cell_type": "markdown",
   "metadata": {},
   "source": [
    "Chart II: Number of Accidents based on visibility."
   ]
  },
  {
   "cell_type": "code",
   "execution_count": 42,
   "metadata": {},
   "outputs": [
    {
     "data": {
      "image/png": "[encoded data removed]",
      "text/plain": [
       "<Figure size 576x576 with 1 Axes>"
      ]
     },
     "metadata": {
      "needs_background": "light"
     },
     "output_type": "display_data"
    }
   ],
   "source": [
    "#Charting with pandas\n",
    "x_axis2 = sa_visibility.index.to_list\n",
    "sa_visib_chart = sa_visibility.plot.barh(x=x_axis2, figsize=(8,8), title=\"Number of Accidents per Visibility in San Antonio (2018)\")\n",
    "sa_visib_chart.set_xlabel(\"Number of Accidents\", fontsize=14)\n",
    "sa_visib_chart.set_ylabel(\"Visibility (mi)\", fontsize=14)\n",
    "plt.savefig(\"Images/accident_per_visibility_bar.png\")\n",
    "plt.show()"
   ]
  },
  {
   "cell_type": "markdown",
   "metadata": {},
   "source": [
    "### Accidents based on precipitation conditions\n",
    "\n",
    "Grouped dataframe based on precipitation column for charting."
   ]
  },
  {
   "cell_type": "code",
   "execution_count": 50,
   "metadata": {
    "scrolled": true
   },
   "outputs": [],
   "source": [
    "#Grouping original dataframe by precipitation column\n",
    "group_by_prec = sa_df.groupby('Precipitation(in)')\n",
    "sa_precipitation = group_by_prec.count()\n",
    "y_axis2 = sa_precipitation.index.to_list()\n",
    "sa_precipitation = sa_precipitation['Time'].tolist()"
   ]
  },
  {
   "cell_type": "code",
   "execution_count": 64,
   "metadata": {},
   "outputs": [
    {
     "data": {
      "image/png": "[encoded data removed]",
      "text/plain": [
       "<Figure size 432x288 with 1 Axes>"
      ]
     },
     "metadata": {
      "needs_background": "light"
     },
     "output_type": "display_data"
    }
   ],
   "source": [
    "x_values = sa_df['Visibility(mi)']\n",
    "y_values = sa_df['Precipitation(in)']\n",
    "plt.scatter(x_values, y_values, marker='o')\n",
    "(slope, intercept, rvalue, pvalue, stderr) = linregress(x_values, y_values)\n",
    "regress_values = x_values * slope + intercept\n",
    "line_eq = \"y = \" + str(round(slope,2)) + \"x + \" + str(round(intercept,2))\n",
    "plt.plot(x_values,regress_values,\"r-\")\n",
    "plt.annotate(line_eq,(6,0.6),fontsize=15,color=\"red\")\n",
    "plt.show()"
   ]
  },
  {
   "cell_type": "code",
   "execution_count": 55,
   "metadata": {},
   "outputs": [
    {
     "data": {
      "image/png": "[encoded data removed]",
      "text/plain": [
       "<Figure size 432x288 with 1 Axes>"
      ]
     },
     "metadata": {
      "needs_background": "light"
     },
     "output_type": "display_data"
    }
   ],
   "source": [
    "fig1, ax1 = plt.subplots()\n",
    "ax1.set_title('Accidents per Temperature in San Antonio (2018)')\n",
    "ax1.set_ylabel('Temperature(F)')\n",
    "ax1.boxplot(sa_df['Temperature(F)'])\n",
    "plt.show()"
   ]
  },
  {
   "cell_type": "markdown",
   "metadata": {},
   "source": [
    "### Accidents based on temperature\n",
    "\n",
    "Grouped dataframe based on temperature column for charting."
   ]
  },
  {
   "cell_type": "code",
   "execution_count": 25,
   "metadata": {},
   "outputs": [
    {
     "name": "stdout",
     "output_type": "stream",
     "text": [
      "Temperature(F)\n",
      "26.1     3\n",
      "27.0    10\n",
      "27.9     1\n",
      "28.0     2\n",
      "28.2     2\n",
      "        ..\n",
      "91.0     4\n",
      "91.8     2\n",
      "93.9     3\n",
      "96.1     1\n",
      "98.1     1\n",
      "Name: Time, Length: 135, dtype: int64\n",
      "98.1\n"
     ]
    }
   ],
   "source": [
    "# grouping original dataframe by temperature.\n",
    "sa_temp = sa_df.groupby('Temperature(F)')\n",
    "temp_count = sa_temp['Time'].count()\n",
    "print(temp_count)\n",
    "print(sa_df['Temperature(F)'].max())"
   ]
  },
  {
   "cell_type": "code",
   "execution_count": 78,
   "metadata": {},
   "outputs": [
    {
     "name": "stderr",
     "output_type": "stream",
     "text": [
      "C:\\Users\\Courtney\\anaconda3\\envs\\PythonData2\\lib\\site-packages\\ipykernel_launcher.py:3: SettingWithCopyWarning: \n",
      "A value is trying to be set on a copy of a slice from a DataFrame.\n",
      "Try using .loc[row_indexer,col_indexer] = value instead\n",
      "\n",
      "See the caveats in the documentation: https://pandas.pydata.org/pandas-docs/stable/user_guide/indexing.html#returning-a-view-versus-a-copy\n",
      "  This is separate from the ipykernel package so we can avoid doing imports until\n"
     ]
    }
   ],
   "source": [
    "bins = [0,20,40,60,80,100]\n",
    "labels = ['0-20','21-40','41-60','61-80','81-100']\n",
    "sa_df['Bins'] = pd.cut(sa_df['Temperature(F)'], bins=bins, labels=labels, include_lowest=True)\n"
   ]
  },
  {
   "cell_type": "code",
   "execution_count": 79,
   "metadata": {},
   "outputs": [
    {
     "data": {
      "text/plain": [
       "<matplotlib.axes._subplots.AxesSubplot at 0x2bca3604748>"
      ]
     },
     "execution_count": 79,
     "metadata": {},
     "output_type": "execute_result"
    },
    {
     "data": {
      "image/png": "[encoded data removed]",
      "text/plain": [
       "<Figure size 432x288 with 1 Axes>"
      ]
     },
     "metadata": {
      "needs_background": "light"
     },
     "output_type": "display_data"
    }
   ],
   "source": [
    "temp_group = sa_df.groupby(['Bins'])\n",
    "temp_group = temp_group['Time'].count()\n",
    "temp_group.plot.barh()\n"
   ]
  },
  {
   "cell_type": "code",
   "execution_count": 72,
   "metadata": {},
   "outputs": [
    {
     "data": {
      "text/plain": [
       "854"
      ]
     },
     "execution_count": 72,
     "metadata": {},
     "output_type": "execute_result"
    }
   ],
   "source": [
    "len(sa_df)"
   ]
  },
  {
   "cell_type": "code",
   "execution_count": 66,
   "metadata": {},
   "outputs": [],
   "source": [
    "data =sa_weather1['Time'].count()"
   ]
  },
  {
   "cell_type": "code",
   "execution_count": 67,
   "metadata": {},
   "outputs": [
    {
     "data": {
      "text/plain": [
       "pandas.core.series.Series"
      ]
     },
     "execution_count": 67,
     "metadata": {},
     "output_type": "execute_result"
    }
   ],
   "source": [
    "type(data)"
   ]
  },
  {
   "cell_type": "code",
   "execution_count": 73,
   "metadata": {},
   "outputs": [
    {
     "data": {
      "text/html": [
       "<div>\n",
       "<style scoped>\n",
       "    .dataframe tbody tr th:only-of-type {\n",
       "        vertical-align: middle;\n",
       "    }\n",
       "\n",
       "    .dataframe tbody tr th {\n",
       "        vertical-align: top;\n",
       "    }\n",
       "\n",
       "    .dataframe thead th {\n",
       "        text-align: right;\n",
       "    }\n",
       "</style>\n",
       "<table border=\"1\" class=\"dataframe\">\n",
       "  <thead>\n",
       "    <tr style=\"text-align: right;\">\n",
       "      <th></th>\n",
       "      <th>Observed</th>\n",
       "      <th>Expected</th>\n",
       "    </tr>\n",
       "    <tr>\n",
       "      <th>Weather_Condition</th>\n",
       "      <th></th>\n",
       "      <th></th>\n",
       "    </tr>\n",
       "  </thead>\n",
       "  <tbody>\n",
       "    <tr>\n",
       "      <th>Clear</th>\n",
       "      <td>17</td>\n",
       "      <td>50</td>\n",
       "    </tr>\n",
       "    <tr>\n",
       "      <th>Fog</th>\n",
       "      <td>5</td>\n",
       "      <td>50</td>\n",
       "    </tr>\n",
       "    <tr>\n",
       "      <th>Haze</th>\n",
       "      <td>1</td>\n",
       "      <td>50</td>\n",
       "    </tr>\n",
       "    <tr>\n",
       "      <th>Heavy Rain</th>\n",
       "      <td>30</td>\n",
       "      <td>50</td>\n",
       "    </tr>\n",
       "    <tr>\n",
       "      <th>Heavy Thunderstorms and Rain</th>\n",
       "      <td>15</td>\n",
       "      <td>50</td>\n",
       "    </tr>\n",
       "    <tr>\n",
       "      <th>Light Drizzle</th>\n",
       "      <td>65</td>\n",
       "      <td>50</td>\n",
       "    </tr>\n",
       "    <tr>\n",
       "      <th>Light Freezing Rain</th>\n",
       "      <td>9</td>\n",
       "      <td>50</td>\n",
       "    </tr>\n",
       "    <tr>\n",
       "      <th>Light Rain</th>\n",
       "      <td>379</td>\n",
       "      <td>50</td>\n",
       "    </tr>\n",
       "    <tr>\n",
       "      <th>Light Snow</th>\n",
       "      <td>3</td>\n",
       "      <td>50</td>\n",
       "    </tr>\n",
       "    <tr>\n",
       "      <th>Light Thunderstorms and Rain</th>\n",
       "      <td>23</td>\n",
       "      <td>50</td>\n",
       "    </tr>\n",
       "    <tr>\n",
       "      <th>Mostly Cloudy</th>\n",
       "      <td>41</td>\n",
       "      <td>50</td>\n",
       "    </tr>\n",
       "    <tr>\n",
       "      <th>Overcast</th>\n",
       "      <td>200</td>\n",
       "      <td>50</td>\n",
       "    </tr>\n",
       "    <tr>\n",
       "      <th>Partly Cloudy</th>\n",
       "      <td>6</td>\n",
       "      <td>50</td>\n",
       "    </tr>\n",
       "    <tr>\n",
       "      <th>Rain</th>\n",
       "      <td>36</td>\n",
       "      <td>50</td>\n",
       "    </tr>\n",
       "    <tr>\n",
       "      <th>Scattered Clouds</th>\n",
       "      <td>10</td>\n",
       "      <td>50</td>\n",
       "    </tr>\n",
       "    <tr>\n",
       "      <th>Thunderstorm</th>\n",
       "      <td>3</td>\n",
       "      <td>50</td>\n",
       "    </tr>\n",
       "    <tr>\n",
       "      <th>Thunderstorms and Rain</th>\n",
       "      <td>11</td>\n",
       "      <td>50</td>\n",
       "    </tr>\n",
       "  </tbody>\n",
       "</table>\n",
       "</div>"
      ],
      "text/plain": [
       "                              Observed  Expected\n",
       "Weather_Condition                               \n",
       "Clear                               17        50\n",
       "Fog                                  5        50\n",
       "Haze                                 1        50\n",
       "Heavy Rain                          30        50\n",
       "Heavy Thunderstorms and Rain        15        50\n",
       "Light Drizzle                       65        50\n",
       "Light Freezing Rain                  9        50\n",
       "Light Rain                         379        50\n",
       "Light Snow                           3        50\n",
       "Light Thunderstorms and Rain        23        50\n",
       "Mostly Cloudy                       41        50\n",
       "Overcast                           200        50\n",
       "Partly Cloudy                        6        50\n",
       "Rain                                36        50\n",
       "Scattered Clouds                    10        50\n",
       "Thunderstorm                         3        50\n",
       "Thunderstorms and Rain              11        50"
      ]
     },
     "execution_count": 73,
     "metadata": {},
     "output_type": "execute_result"
    }
   ],
   "source": [
    "weather_conditions = pd.DataFrame({\n",
    "    'Observed':data,\n",
    "    'Expected': 50\n",
    "})\n",
    "weather_conditions"
   ]
  },
  {
   "cell_type": "code",
   "execution_count": 74,
   "metadata": {},
   "outputs": [],
   "source": [
    "critical_value = stats.chi2.ppf(q = 0.95, df = 16)"
   ]
  },
  {
   "cell_type": "code",
   "execution_count": 75,
   "metadata": {},
   "outputs": [
    {
     "data": {
      "text/plain": [
       "26.29622760486423"
      ]
     },
     "execution_count": 75,
     "metadata": {},
     "output_type": "execute_result"
    }
   ],
   "source": [
    "critical_value"
   ]
  },
  {
   "cell_type": "code",
   "execution_count": 76,
   "metadata": {},
   "outputs": [
    {
     "data": {
      "text/plain": [
       "Power_divergenceResult(statistic=3005.3599999999997, pvalue=0.0)"
      ]
     },
     "execution_count": 76,
     "metadata": {},
     "output_type": "execute_result"
    }
   ],
   "source": [
    "stats.chisquare(weather_conditions['Observed'], weather_conditions['Expected'])"
   ]
  },
  {
   "cell_type": "code",
   "execution_count": null,
   "metadata": {},
   "outputs": [],
   "source": []
  }
 ],
 "metadata": {
  "kernelspec": {
   "display_name": "Python [conda env:PythonData2] *",
   "language": "python",
   "name": "conda-env-PythonData2-py"
  },
  "language_info": {
   "codemirror_mode": {
    "name": "ipython",
    "version": 3
   },
   "file_extension": ".py",
   "mimetype": "text/x-python",
   "name": "python",
   "nbconvert_exporter": "python",
   "pygments_lexer": "ipython3",
   "version": "3.6.10"
  }
 },
 "nbformat": 4,
 "nbformat_minor": 4
}
