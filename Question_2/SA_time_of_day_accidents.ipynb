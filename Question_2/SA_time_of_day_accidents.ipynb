{
 "cells": [
  {
   "cell_type": "code",
   "execution_count": 2,
   "metadata": {},
   "outputs": [],
   "source": [
    "import pandas as pd\n",
    "import matplotlib.pyplot as plt\n",
    "import gmaps\n",
    "import requests\n",
    "#from api_key import api_key"
   ]
  },
  {
   "cell_type": "code",
   "execution_count": 3,
   "metadata": {},
   "outputs": [
    {
     "data": {
      "text/html": [
       "<div>\n",
       "<style scoped>\n",
       "    .dataframe tbody tr th:only-of-type {\n",
       "        vertical-align: middle;\n",
       "    }\n",
       "\n",
       "    .dataframe tbody tr th {\n",
       "        vertical-align: top;\n",
       "    }\n",
       "\n",
       "    .dataframe thead th {\n",
       "        text-align: right;\n",
       "    }\n",
       "</style>\n",
       "<table border=\"1\" class=\"dataframe\">\n",
       "  <thead>\n",
       "    <tr style=\"text-align: right;\">\n",
       "      <th></th>\n",
       "      <th>Unnamed: 0</th>\n",
       "      <th>Time</th>\n",
       "      <th>Latitude</th>\n",
       "      <th>Longitude</th>\n",
       "      <th>City</th>\n",
       "      <th>County</th>\n",
       "      <th>State</th>\n",
       "      <th>Zipcode</th>\n",
       "      <th>Temperature(F)</th>\n",
       "      <th>Humidity(%)</th>\n",
       "      <th>Pressure(in)</th>\n",
       "      <th>Visibility(mi)</th>\n",
       "      <th>Wind_Speed(mph)</th>\n",
       "      <th>Precipitation(in)</th>\n",
       "      <th>Weather_Condition</th>\n",
       "      <th>Year</th>\n",
       "      <th>Month</th>\n",
       "      <th>Day</th>\n",
       "    </tr>\n",
       "  </thead>\n",
       "  <tbody>\n",
       "    <tr>\n",
       "      <th>0</th>\n",
       "      <td>195997</td>\n",
       "      <td>2018-11-30 04:04:00</td>\n",
       "      <td>29.354069</td>\n",
       "      <td>-98.400734</td>\n",
       "      <td>San Antonio</td>\n",
       "      <td>Bexar</td>\n",
       "      <td>TX</td>\n",
       "      <td>78222</td>\n",
       "      <td>66.9</td>\n",
       "      <td>90.0</td>\n",
       "      <td>29.79</td>\n",
       "      <td>8.0</td>\n",
       "      <td>4.6</td>\n",
       "      <td>0.0</td>\n",
       "      <td>Overcast</td>\n",
       "      <td>2018</td>\n",
       "      <td>11</td>\n",
       "      <td>30</td>\n",
       "    </tr>\n",
       "    <tr>\n",
       "      <th>1</th>\n",
       "      <td>195998</td>\n",
       "      <td>2018-11-30 04:03:22</td>\n",
       "      <td>29.452906</td>\n",
       "      <td>-98.501022</td>\n",
       "      <td>San Antonio</td>\n",
       "      <td>Bexar</td>\n",
       "      <td>TX</td>\n",
       "      <td>78212-3329</td>\n",
       "      <td>64.9</td>\n",
       "      <td>97.0</td>\n",
       "      <td>29.79</td>\n",
       "      <td>3.0</td>\n",
       "      <td>6.9</td>\n",
       "      <td>0.0</td>\n",
       "      <td>Overcast</td>\n",
       "      <td>2018</td>\n",
       "      <td>11</td>\n",
       "      <td>30</td>\n",
       "    </tr>\n",
       "    <tr>\n",
       "      <th>2</th>\n",
       "      <td>196000</td>\n",
       "      <td>2018-11-30 04:03:04</td>\n",
       "      <td>29.483614</td>\n",
       "      <td>-98.403198</td>\n",
       "      <td>San Antonio</td>\n",
       "      <td>Bexar</td>\n",
       "      <td>TX</td>\n",
       "      <td>78218</td>\n",
       "      <td>64.9</td>\n",
       "      <td>97.0</td>\n",
       "      <td>29.79</td>\n",
       "      <td>3.0</td>\n",
       "      <td>6.9</td>\n",
       "      <td>0.0</td>\n",
       "      <td>Overcast</td>\n",
       "      <td>2018</td>\n",
       "      <td>11</td>\n",
       "      <td>30</td>\n",
       "    </tr>\n",
       "    <tr>\n",
       "      <th>3</th>\n",
       "      <td>196019</td>\n",
       "      <td>2018-11-30 11:03:46</td>\n",
       "      <td>29.494801</td>\n",
       "      <td>-98.535782</td>\n",
       "      <td>San Antonio</td>\n",
       "      <td>Bexar</td>\n",
       "      <td>TX</td>\n",
       "      <td>78213-3947</td>\n",
       "      <td>68.0</td>\n",
       "      <td>87.0</td>\n",
       "      <td>29.79</td>\n",
       "      <td>10.0</td>\n",
       "      <td>8.1</td>\n",
       "      <td>0.0</td>\n",
       "      <td>Light Drizzle</td>\n",
       "      <td>2018</td>\n",
       "      <td>11</td>\n",
       "      <td>30</td>\n",
       "    </tr>\n",
       "    <tr>\n",
       "      <th>4</th>\n",
       "      <td>196021</td>\n",
       "      <td>2018-11-30 11:15:14</td>\n",
       "      <td>29.493256</td>\n",
       "      <td>-98.499268</td>\n",
       "      <td>San Antonio</td>\n",
       "      <td>Bexar</td>\n",
       "      <td>TX</td>\n",
       "      <td>78216-7205</td>\n",
       "      <td>68.0</td>\n",
       "      <td>87.0</td>\n",
       "      <td>29.79</td>\n",
       "      <td>10.0</td>\n",
       "      <td>8.1</td>\n",
       "      <td>0.0</td>\n",
       "      <td>Light Drizzle</td>\n",
       "      <td>2018</td>\n",
       "      <td>11</td>\n",
       "      <td>30</td>\n",
       "    </tr>\n",
       "  </tbody>\n",
       "</table>\n",
       "</div>"
      ],
      "text/plain": [
       "   Unnamed: 0                 Time   Latitude  Longitude         City County  \\\n",
       "0      195997  2018-11-30 04:04:00  29.354069 -98.400734  San Antonio  Bexar   \n",
       "1      195998  2018-11-30 04:03:22  29.452906 -98.501022  San Antonio  Bexar   \n",
       "2      196000  2018-11-30 04:03:04  29.483614 -98.403198  San Antonio  Bexar   \n",
       "3      196019  2018-11-30 11:03:46  29.494801 -98.535782  San Antonio  Bexar   \n",
       "4      196021  2018-11-30 11:15:14  29.493256 -98.499268  San Antonio  Bexar   \n",
       "\n",
       "  State     Zipcode  Temperature(F)  Humidity(%)  Pressure(in)  \\\n",
       "0    TX       78222            66.9         90.0         29.79   \n",
       "1    TX  78212-3329            64.9         97.0         29.79   \n",
       "2    TX       78218            64.9         97.0         29.79   \n",
       "3    TX  78213-3947            68.0         87.0         29.79   \n",
       "4    TX  78216-7205            68.0         87.0         29.79   \n",
       "\n",
       "   Visibility(mi)  Wind_Speed(mph)  Precipitation(in) Weather_Condition  Year  \\\n",
       "0             8.0              4.6                0.0          Overcast  2018   \n",
       "1             3.0              6.9                0.0          Overcast  2018   \n",
       "2             3.0              6.9                0.0          Overcast  2018   \n",
       "3            10.0              8.1                0.0     Light Drizzle  2018   \n",
       "4            10.0              8.1                0.0     Light Drizzle  2018   \n",
       "\n",
       "   Month  Day  \n",
       "0     11   30  \n",
       "1     11   30  \n",
       "2     11   30  \n",
       "3     11   30  \n",
       "4     11   30  "
      ]
     },
     "execution_count": 3,
     "metadata": {},
     "output_type": "execute_result"
    }
   ],
   "source": [
    "csv_read = pd.read_csv(\"../cleaned_2018_texas_accidents.csv\")\n",
    "texas_accidents_df = pd.DataFrame(csv_read)\n",
    "texas_accidents_df.head()"
   ]
  },
  {
   "cell_type": "code",
   "execution_count": 77,
   "metadata": {},
   "outputs": [
    {
     "data": {
      "text/plain": [
       "Weather_Condition\n",
       "Clear                            17\n",
       "Fog                               5\n",
       "Haze                              1\n",
       "Heavy Rain                       30\n",
       "Heavy Thunderstorms and Rain     15\n",
       "Light Drizzle                    65\n",
       "Light Freezing Rain               9\n",
       "Light Rain                      379\n",
       "Light Snow                        3\n",
       "Light Thunderstorms and Rain     23\n",
       "Mostly Cloudy                    41\n",
       "Overcast                        200\n",
       "Partly Cloudy                     6\n",
       "Rain                             36\n",
       "Scattered Clouds                 10\n",
       "Thunderstorm                      3\n",
       "Thunderstorms and Rain           11\n",
       "Name: Time, dtype: int64"
      ]
     },
     "execution_count": 77,
     "metadata": {},
     "output_type": "execute_result"
    }
   ],
   "source": [
    "# san antonio accident data\n",
    "sa_df = texas_accidents_df.loc[texas_accidents_df['City']=='San Antonio']\n",
    "sa_weather = sa_df.groupby('Weather_Condition')\n",
    "sa_weather = sa_weather['Time'].count()\n",
    "sa_weather"
   ]
  },
  {
   "cell_type": "code",
   "execution_count": 112,
   "metadata": {},
   "outputs": [
    {
     "data": {
      "text/plain": [
       "<bound method IndexOpsMixin.tolist of Index(['Clear', 'Fog', 'Haze', 'Heavy Rain', 'Heavy Thunderstorms and Rain',\n",
       "       'Light Drizzle', 'Light Freezing Rain', 'Light Rain', 'Light Snow',\n",
       "       'Light Thunderstorms and Rain', 'Mostly Cloudy', 'Overcast',\n",
       "       'Partly Cloudy', 'Rain', 'Scattered Clouds', 'Thunderstorm',\n",
       "       'Thunderstorms and Rain'],\n",
       "      dtype='object', name='Weather_Condition')>"
      ]
     },
     "execution_count": 112,
     "metadata": {},
     "output_type": "execute_result"
    }
   ],
   "source": [
    "x_axis = sa_weather.index.to_list\n",
    "x_axis"
   ]
  },
  {
   "cell_type": "code",
   "execution_count": 119,
   "metadata": {},
   "outputs": [
    {
     "data": {
      "text/plain": [
       "<matplotlib.axes._subplots.AxesSubplot at 0x7fa90c576320>"
      ]
     },
     "execution_count": 119,
     "metadata": {},
     "output_type": "execute_result"
    },
    {
     "data": {
      "image/png": "[encoded data removed]",
      "text/plain": [
       "<Figure size 432x288 with 1 Axes>"
      ]
     },
     "metadata": {
      "needs_background": "light"
     },
     "output_type": "display_data"
    }
   ],
   "source": [
    "sa_weather.plot.barh(x=x_axis)"
   ]
  },
  {
   "cell_type": "code",
   "execution_count": 124,
   "metadata": {},
   "outputs": [
    {
     "data": {
      "text/plain": [
       "Visibility(mi)\n",
       "0.1      17\n",
       "0.2       8\n",
       "0.4       1\n",
       "0.5       7\n",
       "0.8      12\n",
       "0.9       1\n",
       "1.0      21\n",
       "1.2       1\n",
       "1.5       8\n",
       "1.8      11\n",
       "2.0      51\n",
       "2.5      11\n",
       "3.0      53\n",
       "4.0      50\n",
       "5.0      44\n",
       "6.0      40\n",
       "7.0      44\n",
       "8.0      41\n",
       "9.0      24\n",
       "10.0    409\n",
       "Name: Time, dtype: int64"
      ]
     },
     "execution_count": 124,
     "metadata": {},
     "output_type": "execute_result"
    }
   ],
   "source": [
    "sa_visibility = sa_df.groupby('Visibility(mi)')\n",
    "sa_visibility = sa_visibility['Time'].count()\n",
    "sa_visibility\n"
   ]
  },
  {
   "cell_type": "code",
   "execution_count": 125,
   "metadata": {},
   "outputs": [
    {
     "data": {
      "text/plain": [
       "<matplotlib.axes._subplots.AxesSubplot at 0x7fa90c6cab70>"
      ]
     },
     "execution_count": 125,
     "metadata": {},
     "output_type": "execute_result"
    },
    {
     "data": {
      "image/png": "[encoded data removed]",
      "text/plain": [
       "<Figure size 432x288 with 1 Axes>"
      ]
     },
     "metadata": {
      "needs_background": "light"
     },
     "output_type": "display_data"
    }
   ],
   "source": [
    "x_axis2 = sa_visibility.index.to_list\n",
    "x_axis2\n",
    "sa_visibility.plot.barh(x=x_axis2)"
   ]
  },
  {
   "cell_type": "code",
   "execution_count": 75,
   "metadata": {},
   "outputs": [],
   "source": [
    "sa_precipitation = sa_df.groupby('Precipitation(in)')\n",
    "sa_precipitation = sa_precipitation['Time'].count()\n"
   ]
  },
  {
   "cell_type": "code",
   "execution_count": 61,
   "metadata": {},
   "outputs": [
    {
     "name": "stdout",
     "output_type": "stream",
     "text": [
      "98.1\n"
     ]
    }
   ],
   "source": [
    "sa_temp = sa_df.groupby('Temperature(F)')\n",
    "temp_count = sa_temp['Time'].count()\n",
    "print(sa_df['Temperature(F)'].max())"
   ]
  },
  {
   "cell_type": "code",
   "execution_count": 66,
   "metadata": {},
   "outputs": [
    {
     "data": {
      "text/plain": [
       "135"
      ]
     },
     "execution_count": 66,
     "metadata": {},
     "output_type": "execute_result"
    }
   ],
   "source": [
    "count = len(temp_count)\n",
    "count"
   ]
  },
  {
   "cell_type": "code",
   "execution_count": 126,
   "metadata": {},
   "outputs": [
    {
     "data": {
      "text/plain": [
       "Temperature(F)\n",
       "26.1     3\n",
       "27.0    10\n",
       "27.9     1\n",
       "28.0     2\n",
       "28.2     2\n",
       "        ..\n",
       "91.0     4\n",
       "91.8     2\n",
       "93.9     3\n",
       "96.1     1\n",
       "98.1     1\n",
       "Name: Time, Length: 135, dtype: int64"
      ]
     },
     "execution_count": 126,
     "metadata": {},
     "output_type": "execute_result"
    }
   ],
   "source": [
    "temp_count\n"
   ]
  },
  {
   "cell_type": "code",
   "execution_count": 127,
   "metadata": {},
   "outputs": [
    {
     "data": {
      "text/plain": [
       "<bound method IndexOpsMixin.tolist of Float64Index([26.1, 27.0, 27.9, 28.0, 28.2, 28.9, 29.7, 30.0, 30.9, 41.0,\n",
       "              ...\n",
       "              86.9, 88.7, 88.9, 89.1, 90.3, 91.0, 91.8, 93.9, 96.1, 98.1],\n",
       "             dtype='float64', name='Temperature(F)', length=135)>"
      ]
     },
     "execution_count": 127,
     "metadata": {},
     "output_type": "execute_result"
    }
   ],
   "source": [
    "x_axis3 = temp_count.index.to_list\n",
    "x_axis3"
   ]
  },
  {
   "cell_type": "code",
   "execution_count": 128,
   "metadata": {},
   "outputs": [
    {
     "data": {
      "text/plain": [
       "<matplotlib.axes._subplots.AxesSubplot at 0x7fa90c700080>"
      ]
     },
     "execution_count": 128,
     "metadata": {},
     "output_type": "execute_result"
    },
    {
     "data": {
      "image/png": "[encoded data removed]",
      "text/plain": [
       "<Figure size 432x288 with 1 Axes>"
      ]
     },
     "metadata": {
      "needs_background": "light"
     },
     "output_type": "display_data"
    }
   ],
   "source": [
    "\n",
    "temp_count.plot.barh(x=x_axis3)"
   ]
  },
  {
   "cell_type": "code",
   "execution_count": null,
   "metadata": {},
   "outputs": [],
   "source": []
  }
 ],
 "metadata": {
  "kernelspec": {
   "display_name": "Python [conda env:PythonData] *",
   "language": "python",
   "name": "conda-env-PythonData-py"
  },
  "language_info": {
   "codemirror_mode": {
    "name": "ipython",
    "version": 3
   },
   "file_extension": ".py",
   "mimetype": "text/x-python",
   "name": "python",
   "nbconvert_exporter": "python",
   "pygments_lexer": "ipython3",
   "version": "3.6.10"
  }
 },
 "nbformat": 4,
 "nbformat_minor": 4
}
