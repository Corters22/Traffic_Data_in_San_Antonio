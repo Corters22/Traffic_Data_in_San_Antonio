{
 "cells": [
  {
   "cell_type": "markdown",
   "metadata": {},
   "source": [
    "## Comparison of number of traffic accidents based on the time of the day and in which in the month in San Antonio is the safest to drive in.\n",
    "\n",
    "When is the best time to drive in San Antonio to avoid being in an accident?\n",
    "\n",
    "Which week in the month is the best time to drive in San Antonio to avoid being in an traffic accident?"
   ]
  },
  {
   "cell_type": "code",
   "execution_count": 1,
   "metadata": {},
   "outputs": [],
   "source": [
    "import pandas as pd\n",
    "import matplotlib.pyplot as plt\n",
    "import gmaps\n",
    "import requests\n",
    "import datetime\n",
    "import time\n",
    "import random\n",
    "#from api_key import api_key"
   ]
  },
  {
   "cell_type": "markdown",
   "metadata": {},
   "source": [
    "## Dataset: US Accidents (4.2 million records)\n",
    "Source:https://www.kaggle.com/sobhanmoosavi/us-accidents\n",
    "\n",
    "Description: Reported accidents over US from 2016-Dec 2020, includes location of accident, date of the occurrence, weather at time of the accident, and other variables."
   ]
  },
  {
   "cell_type": "code",
   "execution_count": 2,
   "metadata": {},
   "outputs": [
    {
     "data": {
      "text/html": [
       "<div>\n",
       "<style scoped>\n",
       "    .dataframe tbody tr th:only-of-type {\n",
       "        vertical-align: middle;\n",
       "    }\n",
       "\n",
       "    .dataframe tbody tr th {\n",
       "        vertical-align: top;\n",
       "    }\n",
       "\n",
       "    .dataframe thead th {\n",
       "        text-align: right;\n",
       "    }\n",
       "</style>\n",
       "<table border=\"1\" class=\"dataframe\">\n",
       "  <thead>\n",
       "    <tr style=\"text-align: right;\">\n",
       "      <th></th>\n",
       "      <th>Unnamed: 0</th>\n",
       "      <th>Time</th>\n",
       "      <th>Latitude</th>\n",
       "      <th>Longitude</th>\n",
       "      <th>City</th>\n",
       "      <th>County</th>\n",
       "      <th>State</th>\n",
       "      <th>Zipcode</th>\n",
       "      <th>Temperature(F)</th>\n",
       "      <th>Humidity(%)</th>\n",
       "      <th>Pressure(in)</th>\n",
       "      <th>Visibility(mi)</th>\n",
       "      <th>Wind_Speed(mph)</th>\n",
       "      <th>Precipitation(in)</th>\n",
       "      <th>Weather_Condition</th>\n",
       "      <th>Year</th>\n",
       "      <th>Month</th>\n",
       "      <th>Day</th>\n",
       "    </tr>\n",
       "  </thead>\n",
       "  <tbody>\n",
       "    <tr>\n",
       "      <th>0</th>\n",
       "      <td>195997</td>\n",
       "      <td>2018-11-30 04:04:00</td>\n",
       "      <td>29.354069</td>\n",
       "      <td>-98.400734</td>\n",
       "      <td>San Antonio</td>\n",
       "      <td>Bexar</td>\n",
       "      <td>TX</td>\n",
       "      <td>78222</td>\n",
       "      <td>66.9</td>\n",
       "      <td>90.0</td>\n",
       "      <td>29.79</td>\n",
       "      <td>8.0</td>\n",
       "      <td>4.6</td>\n",
       "      <td>0.0</td>\n",
       "      <td>Overcast</td>\n",
       "      <td>2018</td>\n",
       "      <td>11</td>\n",
       "      <td>30</td>\n",
       "    </tr>\n",
       "    <tr>\n",
       "      <th>1</th>\n",
       "      <td>195998</td>\n",
       "      <td>2018-11-30 04:03:22</td>\n",
       "      <td>29.452906</td>\n",
       "      <td>-98.501022</td>\n",
       "      <td>San Antonio</td>\n",
       "      <td>Bexar</td>\n",
       "      <td>TX</td>\n",
       "      <td>78212-3329</td>\n",
       "      <td>64.9</td>\n",
       "      <td>97.0</td>\n",
       "      <td>29.79</td>\n",
       "      <td>3.0</td>\n",
       "      <td>6.9</td>\n",
       "      <td>0.0</td>\n",
       "      <td>Overcast</td>\n",
       "      <td>2018</td>\n",
       "      <td>11</td>\n",
       "      <td>30</td>\n",
       "    </tr>\n",
       "    <tr>\n",
       "      <th>2</th>\n",
       "      <td>196000</td>\n",
       "      <td>2018-11-30 04:03:04</td>\n",
       "      <td>29.483614</td>\n",
       "      <td>-98.403198</td>\n",
       "      <td>San Antonio</td>\n",
       "      <td>Bexar</td>\n",
       "      <td>TX</td>\n",
       "      <td>78218</td>\n",
       "      <td>64.9</td>\n",
       "      <td>97.0</td>\n",
       "      <td>29.79</td>\n",
       "      <td>3.0</td>\n",
       "      <td>6.9</td>\n",
       "      <td>0.0</td>\n",
       "      <td>Overcast</td>\n",
       "      <td>2018</td>\n",
       "      <td>11</td>\n",
       "      <td>30</td>\n",
       "    </tr>\n",
       "    <tr>\n",
       "      <th>3</th>\n",
       "      <td>196019</td>\n",
       "      <td>2018-11-30 11:03:46</td>\n",
       "      <td>29.494801</td>\n",
       "      <td>-98.535782</td>\n",
       "      <td>San Antonio</td>\n",
       "      <td>Bexar</td>\n",
       "      <td>TX</td>\n",
       "      <td>78213-3947</td>\n",
       "      <td>68.0</td>\n",
       "      <td>87.0</td>\n",
       "      <td>29.79</td>\n",
       "      <td>10.0</td>\n",
       "      <td>8.1</td>\n",
       "      <td>0.0</td>\n",
       "      <td>Light Drizzle</td>\n",
       "      <td>2018</td>\n",
       "      <td>11</td>\n",
       "      <td>30</td>\n",
       "    </tr>\n",
       "    <tr>\n",
       "      <th>4</th>\n",
       "      <td>196021</td>\n",
       "      <td>2018-11-30 11:15:14</td>\n",
       "      <td>29.493256</td>\n",
       "      <td>-98.499268</td>\n",
       "      <td>San Antonio</td>\n",
       "      <td>Bexar</td>\n",
       "      <td>TX</td>\n",
       "      <td>78216-7205</td>\n",
       "      <td>68.0</td>\n",
       "      <td>87.0</td>\n",
       "      <td>29.79</td>\n",
       "      <td>10.0</td>\n",
       "      <td>8.1</td>\n",
       "      <td>0.0</td>\n",
       "      <td>Light Drizzle</td>\n",
       "      <td>2018</td>\n",
       "      <td>11</td>\n",
       "      <td>30</td>\n",
       "    </tr>\n",
       "  </tbody>\n",
       "</table>\n",
       "</div>"
      ],
      "text/plain": [
       "   Unnamed: 0                 Time   Latitude  Longitude         City County  \\\n",
       "0      195997  2018-11-30 04:04:00  29.354069 -98.400734  San Antonio  Bexar   \n",
       "1      195998  2018-11-30 04:03:22  29.452906 -98.501022  San Antonio  Bexar   \n",
       "2      196000  2018-11-30 04:03:04  29.483614 -98.403198  San Antonio  Bexar   \n",
       "3      196019  2018-11-30 11:03:46  29.494801 -98.535782  San Antonio  Bexar   \n",
       "4      196021  2018-11-30 11:15:14  29.493256 -98.499268  San Antonio  Bexar   \n",
       "\n",
       "  State     Zipcode  Temperature(F)  Humidity(%)  Pressure(in)  \\\n",
       "0    TX       78222            66.9         90.0         29.79   \n",
       "1    TX  78212-3329            64.9         97.0         29.79   \n",
       "2    TX       78218            64.9         97.0         29.79   \n",
       "3    TX  78213-3947            68.0         87.0         29.79   \n",
       "4    TX  78216-7205            68.0         87.0         29.79   \n",
       "\n",
       "   Visibility(mi)  Wind_Speed(mph)  Precipitation(in) Weather_Condition  Year  \\\n",
       "0             8.0              4.6                0.0          Overcast  2018   \n",
       "1             3.0              6.9                0.0          Overcast  2018   \n",
       "2             3.0              6.9                0.0          Overcast  2018   \n",
       "3            10.0              8.1                0.0     Light Drizzle  2018   \n",
       "4            10.0              8.1                0.0     Light Drizzle  2018   \n",
       "\n",
       "   Month  Day  \n",
       "0     11   30  \n",
       "1     11   30  \n",
       "2     11   30  \n",
       "3     11   30  \n",
       "4     11   30  "
      ]
     },
     "execution_count": 2,
     "metadata": {},
     "output_type": "execute_result"
    }
   ],
   "source": [
    "csv_read = pd.read_csv(\"../cleaned_2018_texas_accidents.csv\")\n",
    "texas_accidents_df = pd.DataFrame(csv_read)\n",
    "texas_accidents_df.head()"
   ]
  },
  {
   "cell_type": "markdown",
   "metadata": {},
   "source": [
    "## Filtered the dataframe to include only 2018"
   ]
  },
  {
   "cell_type": "code",
   "execution_count": 3,
   "metadata": {},
   "outputs": [
    {
     "name": "stdout",
     "output_type": "stream",
     "text": [
      "      Unnamed: 0                 Time   Latitude  Longitude         City  \\\n",
      "0         195997  2018-11-30 04:04:00  29.354069 -98.400734  San Antonio   \n",
      "1         195998  2018-11-30 04:03:22  29.452906 -98.501022  San Antonio   \n",
      "2         196000  2018-11-30 04:03:04  29.483614 -98.403198  San Antonio   \n",
      "3         196019  2018-11-30 11:03:46  29.494801 -98.535782  San Antonio   \n",
      "4         196021  2018-11-30 11:15:14  29.493256 -98.499268  San Antonio   \n",
      "...          ...                  ...        ...        ...          ...   \n",
      "7017      368379  2018-01-26 18:16:04  32.980930 -97.306380   Fort Worth   \n",
      "7018      368381  2018-01-26 19:07:03  33.020830 -97.278360      Roanoke   \n",
      "7019      368384  2018-01-26 19:39:16  32.860870 -96.892430       Dallas   \n",
      "7020      368386  2018-01-27 01:42:16  29.951590 -95.417620      Houston   \n",
      "7021      368388  2018-01-27 03:26:32  32.771006 -96.813618       Dallas   \n",
      "\n",
      "       County State     Zipcode  Temperature(F)  Humidity(%)  Pressure(in)  \\\n",
      "0       Bexar    TX       78222            66.9         90.0         29.79   \n",
      "1       Bexar    TX  78212-3329            64.9         97.0         29.79   \n",
      "2       Bexar    TX       78218            64.9         97.0         29.79   \n",
      "3       Bexar    TX  78213-3947            68.0         87.0         29.79   \n",
      "4       Bexar    TX  78216-7205            68.0         87.0         29.79   \n",
      "...       ...   ...         ...             ...          ...           ...   \n",
      "7017  Tarrant    TX       76177            60.1         86.0         30.08   \n",
      "7018   Denton    TX       76262            61.0         87.0         30.08   \n",
      "7019   Dallas    TX       75220            64.0         75.0         30.12   \n",
      "7020   Harris    TX       77060            59.0        100.0         30.15   \n",
      "7021   Dallas    TX       75207            61.0         97.0         30.13   \n",
      "\n",
      "      Visibility(mi)  Wind_Speed(mph)  Precipitation(in) Weather_Condition  \\\n",
      "0                8.0              4.6               0.00          Overcast   \n",
      "1                3.0              6.9               0.00          Overcast   \n",
      "2                3.0              6.9               0.00          Overcast   \n",
      "3               10.0              8.1               0.00     Light Drizzle   \n",
      "4               10.0              8.1               0.00     Light Drizzle   \n",
      "...              ...              ...                ...               ...   \n",
      "7017             8.0             12.7               0.00     Light Drizzle   \n",
      "7018            10.0             15.0               0.00          Overcast   \n",
      "7019            10.0              9.2               0.00        Light Rain   \n",
      "7020             4.0              5.8               0.06        Light Rain   \n",
      "7021             9.0              4.6               0.00          Overcast   \n",
      "\n",
      "      Year  Month  Day  \n",
      "0     2018     11   30  \n",
      "1     2018     11   30  \n",
      "2     2018     11   30  \n",
      "3     2018     11   30  \n",
      "4     2018     11   30  \n",
      "...    ...    ...  ...  \n",
      "7017  2018      1   26  \n",
      "7018  2018      1   26  \n",
      "7019  2018      1   26  \n",
      "7020  2018      1   27  \n",
      "7021  2018      1   27  \n",
      "\n",
      "[7022 rows x 18 columns]\n"
     ]
    }
   ],
   "source": [
    "#texas_accidents_df[\"Time\"] = pd.to_datetime(texas_accidents_df [\"Time\"])\n",
    "#texas_accidents_df = pd.read_csv(\"cleaned_2018_texas_accidents.csv\")\n",
    "print(texas_accidents_df )"
   ]
  },
  {
   "cell_type": "markdown",
   "metadata": {},
   "source": [
    "## Narrowed the analysis to include only traffic accidents in San Antonio"
   ]
  },
  {
   "cell_type": "code",
   "execution_count": 4,
   "metadata": {},
   "outputs": [
    {
     "data": {
      "text/html": [
       "<div>\n",
       "<style scoped>\n",
       "    .dataframe tbody tr th:only-of-type {\n",
       "        vertical-align: middle;\n",
       "    }\n",
       "\n",
       "    .dataframe tbody tr th {\n",
       "        vertical-align: top;\n",
       "    }\n",
       "\n",
       "    .dataframe thead th {\n",
       "        text-align: right;\n",
       "    }\n",
       "</style>\n",
       "<table border=\"1\" class=\"dataframe\">\n",
       "  <thead>\n",
       "    <tr style=\"text-align: right;\">\n",
       "      <th></th>\n",
       "      <th>Time</th>\n",
       "      <th>Latitude</th>\n",
       "      <th>Longitude</th>\n",
       "      <th>City</th>\n",
       "      <th>County</th>\n",
       "      <th>State</th>\n",
       "      <th>Zipcode</th>\n",
       "      <th>Month</th>\n",
       "      <th>Day</th>\n",
       "    </tr>\n",
       "  </thead>\n",
       "  <tbody>\n",
       "    <tr>\n",
       "      <th>0</th>\n",
       "      <td>2018-11-30 04:04:00</td>\n",
       "      <td>29.354069</td>\n",
       "      <td>-98.400734</td>\n",
       "      <td>San Antonio</td>\n",
       "      <td>Bexar</td>\n",
       "      <td>TX</td>\n",
       "      <td>78222</td>\n",
       "      <td>November</td>\n",
       "      <td>30</td>\n",
       "    </tr>\n",
       "    <tr>\n",
       "      <th>1</th>\n",
       "      <td>2018-11-30 04:03:22</td>\n",
       "      <td>29.452906</td>\n",
       "      <td>-98.501022</td>\n",
       "      <td>San Antonio</td>\n",
       "      <td>Bexar</td>\n",
       "      <td>TX</td>\n",
       "      <td>78212-3329</td>\n",
       "      <td>November</td>\n",
       "      <td>30</td>\n",
       "    </tr>\n",
       "    <tr>\n",
       "      <th>2</th>\n",
       "      <td>2018-11-30 04:03:04</td>\n",
       "      <td>29.483614</td>\n",
       "      <td>-98.403198</td>\n",
       "      <td>San Antonio</td>\n",
       "      <td>Bexar</td>\n",
       "      <td>TX</td>\n",
       "      <td>78218</td>\n",
       "      <td>November</td>\n",
       "      <td>30</td>\n",
       "    </tr>\n",
       "    <tr>\n",
       "      <th>3</th>\n",
       "      <td>2018-11-30 11:03:46</td>\n",
       "      <td>29.494801</td>\n",
       "      <td>-98.535782</td>\n",
       "      <td>San Antonio</td>\n",
       "      <td>Bexar</td>\n",
       "      <td>TX</td>\n",
       "      <td>78213-3947</td>\n",
       "      <td>November</td>\n",
       "      <td>30</td>\n",
       "    </tr>\n",
       "    <tr>\n",
       "      <th>4</th>\n",
       "      <td>2018-11-30 11:15:14</td>\n",
       "      <td>29.493256</td>\n",
       "      <td>-98.499268</td>\n",
       "      <td>San Antonio</td>\n",
       "      <td>Bexar</td>\n",
       "      <td>TX</td>\n",
       "      <td>78216-7205</td>\n",
       "      <td>November</td>\n",
       "      <td>30</td>\n",
       "    </tr>\n",
       "    <tr>\n",
       "      <th>...</th>\n",
       "      <td>...</td>\n",
       "      <td>...</td>\n",
       "      <td>...</td>\n",
       "      <td>...</td>\n",
       "      <td>...</td>\n",
       "      <td>...</td>\n",
       "      <td>...</td>\n",
       "      <td>...</td>\n",
       "      <td>...</td>\n",
       "    </tr>\n",
       "    <tr>\n",
       "      <th>6937</th>\n",
       "      <td>2018-02-21 17:17:03</td>\n",
       "      <td>29.514950</td>\n",
       "      <td>-98.553270</td>\n",
       "      <td>San Antonio</td>\n",
       "      <td>Bexar</td>\n",
       "      <td>TX</td>\n",
       "      <td>78230</td>\n",
       "      <td>February</td>\n",
       "      <td>21</td>\n",
       "    </tr>\n",
       "    <tr>\n",
       "      <th>6988</th>\n",
       "      <td>2018-01-10 06:13:06</td>\n",
       "      <td>29.509690</td>\n",
       "      <td>-98.540040</td>\n",
       "      <td>San Antonio</td>\n",
       "      <td>Bexar</td>\n",
       "      <td>TX</td>\n",
       "      <td>78230-5136</td>\n",
       "      <td>January</td>\n",
       "      <td>10</td>\n",
       "    </tr>\n",
       "    <tr>\n",
       "      <th>6998</th>\n",
       "      <td>2018-01-16 08:25:53</td>\n",
       "      <td>29.439430</td>\n",
       "      <td>-98.444350</td>\n",
       "      <td>San Antonio</td>\n",
       "      <td>Bexar</td>\n",
       "      <td>TX</td>\n",
       "      <td>78208</td>\n",
       "      <td>January</td>\n",
       "      <td>16</td>\n",
       "    </tr>\n",
       "    <tr>\n",
       "      <th>7002</th>\n",
       "      <td>2018-01-16 13:35:36</td>\n",
       "      <td>29.393170</td>\n",
       "      <td>-98.511350</td>\n",
       "      <td>San Antonio</td>\n",
       "      <td>Bexar</td>\n",
       "      <td>TX</td>\n",
       "      <td>78204</td>\n",
       "      <td>January</td>\n",
       "      <td>16</td>\n",
       "    </tr>\n",
       "    <tr>\n",
       "      <th>7015</th>\n",
       "      <td>2018-01-26 12:28:48</td>\n",
       "      <td>29.439750</td>\n",
       "      <td>-98.443610</td>\n",
       "      <td>San Antonio</td>\n",
       "      <td>Bexar</td>\n",
       "      <td>TX</td>\n",
       "      <td>78208</td>\n",
       "      <td>January</td>\n",
       "      <td>26</td>\n",
       "    </tr>\n",
       "  </tbody>\n",
       "</table>\n",
       "<p>854 rows × 9 columns</p>\n",
       "</div>"
      ],
      "text/plain": [
       "                    Time   Latitude  Longitude         City County State  \\\n",
       "0    2018-11-30 04:04:00  29.354069 -98.400734  San Antonio  Bexar    TX   \n",
       "1    2018-11-30 04:03:22  29.452906 -98.501022  San Antonio  Bexar    TX   \n",
       "2    2018-11-30 04:03:04  29.483614 -98.403198  San Antonio  Bexar    TX   \n",
       "3    2018-11-30 11:03:46  29.494801 -98.535782  San Antonio  Bexar    TX   \n",
       "4    2018-11-30 11:15:14  29.493256 -98.499268  San Antonio  Bexar    TX   \n",
       "...                  ...        ...        ...          ...    ...   ...   \n",
       "6937 2018-02-21 17:17:03  29.514950 -98.553270  San Antonio  Bexar    TX   \n",
       "6988 2018-01-10 06:13:06  29.509690 -98.540040  San Antonio  Bexar    TX   \n",
       "6998 2018-01-16 08:25:53  29.439430 -98.444350  San Antonio  Bexar    TX   \n",
       "7002 2018-01-16 13:35:36  29.393170 -98.511350  San Antonio  Bexar    TX   \n",
       "7015 2018-01-26 12:28:48  29.439750 -98.443610  San Antonio  Bexar    TX   \n",
       "\n",
       "         Zipcode     Month  Day  \n",
       "0          78222  November   30  \n",
       "1     78212-3329  November   30  \n",
       "2          78218  November   30  \n",
       "3     78213-3947  November   30  \n",
       "4     78216-7205  November   30  \n",
       "...          ...       ...  ...  \n",
       "6937       78230  February   21  \n",
       "6988  78230-5136   January   10  \n",
       "6998       78208   January   16  \n",
       "7002       78204   January   16  \n",
       "7015       78208   January   26  \n",
       "\n",
       "[854 rows x 9 columns]"
      ]
     },
     "execution_count": 4,
     "metadata": {},
     "output_type": "execute_result"
    }
   ],
   "source": [
    "sa_df = texas_accidents_df.loc[texas_accidents_df['City'] == 'San Antonio']\n",
    "sa_df = sa_df [[\"Time\", \"Latitude\", \"Longitude\", \"City\", \"County\", \"State\", \"Zipcode\", \"Month\", \"Day\"]]\n",
    "sa_df['Time']= pd.to_datetime(sa_df['Time'])\n",
    "sa_df['Month'] = sa_df['Time'].dt.month_name()\n",
    "sa_df"
   ]
  },
  {
   "cell_type": "markdown",
   "metadata": {},
   "source": [
    "## Filtered the dataframe to determine the most and least occurrences of traffic accidents by time of day"
   ]
  },
  {
   "cell_type": "code",
   "execution_count": 5,
   "metadata": {},
   "outputs": [
    {
     "data": {
      "text/plain": [
       "0      2018-11-30 04:04:00\n",
       "1      2018-11-30 04:03:22\n",
       "2      2018-11-30 04:03:04\n",
       "3      2018-11-30 11:03:46\n",
       "4      2018-11-30 11:15:14\n",
       "               ...        \n",
       "6937   2018-02-21 17:17:03\n",
       "6988   2018-01-10 06:13:06\n",
       "6998   2018-01-16 08:25:53\n",
       "7002   2018-01-16 13:35:36\n",
       "7015   2018-01-26 12:28:48\n",
       "Name: Time, Length: 854, dtype: datetime64[ns]"
      ]
     },
     "execution_count": 5,
     "metadata": {},
     "output_type": "execute_result"
    }
   ],
   "source": [
    "#t = datetime.strptime('9:33:07','%H:%M:%S')\n",
    "#print(t.hour)\n",
    "sa_df.loc[:, \"Time\"]"
   ]
  },
  {
   "cell_type": "markdown",
   "metadata": {},
   "source": [
    "## Created bins to break out the times of days in shifts"
   ]
  },
  {
   "cell_type": "code",
   "execution_count": 6,
   "metadata": {
    "scrolled": true
   },
   "outputs": [],
   "source": [
    "#define bins as 0 to 5, 6 to 11, 12 to 17, 18 to 24, 24\n",
    "bins = [0, 6, 12, 18, 24]"
   ]
  },
  {
   "cell_type": "code",
   "execution_count": 7,
   "metadata": {},
   "outputs": [],
   "source": [
    "#names for the bins\n",
    "group_names = [\"Graveyard\", \"Morning\", \"Mid Day\", \"Evening\"]"
   ]
  },
  {
   "cell_type": "markdown",
   "metadata": {},
   "source": [
    "## Added the bins to a new column \"Time of Day in Shifts\" to determine when the most and the least amount of accidents occurred"
   ]
  },
  {
   "cell_type": "code",
   "execution_count": 8,
   "metadata": {},
   "outputs": [
    {
     "data": {
      "text/html": [
       "<div>\n",
       "<style scoped>\n",
       "    .dataframe tbody tr th:only-of-type {\n",
       "        vertical-align: middle;\n",
       "    }\n",
       "\n",
       "    .dataframe tbody tr th {\n",
       "        vertical-align: top;\n",
       "    }\n",
       "\n",
       "    .dataframe thead th {\n",
       "        text-align: right;\n",
       "    }\n",
       "</style>\n",
       "<table border=\"1\" class=\"dataframe\">\n",
       "  <thead>\n",
       "    <tr style=\"text-align: right;\">\n",
       "      <th></th>\n",
       "      <th>Time</th>\n",
       "      <th>Latitude</th>\n",
       "      <th>Longitude</th>\n",
       "      <th>City</th>\n",
       "      <th>County</th>\n",
       "      <th>State</th>\n",
       "      <th>Zipcode</th>\n",
       "      <th>Month</th>\n",
       "      <th>Day</th>\n",
       "      <th>Time of Day in Shifts</th>\n",
       "    </tr>\n",
       "  </thead>\n",
       "  <tbody>\n",
       "    <tr>\n",
       "      <th>0</th>\n",
       "      <td>2018-11-30 04:04:00</td>\n",
       "      <td>29.354069</td>\n",
       "      <td>-98.400734</td>\n",
       "      <td>San Antonio</td>\n",
       "      <td>Bexar</td>\n",
       "      <td>TX</td>\n",
       "      <td>78222</td>\n",
       "      <td>November</td>\n",
       "      <td>30</td>\n",
       "      <td>Graveyard</td>\n",
       "    </tr>\n",
       "    <tr>\n",
       "      <th>1</th>\n",
       "      <td>2018-11-30 04:03:22</td>\n",
       "      <td>29.452906</td>\n",
       "      <td>-98.501022</td>\n",
       "      <td>San Antonio</td>\n",
       "      <td>Bexar</td>\n",
       "      <td>TX</td>\n",
       "      <td>78212-3329</td>\n",
       "      <td>November</td>\n",
       "      <td>30</td>\n",
       "      <td>Graveyard</td>\n",
       "    </tr>\n",
       "    <tr>\n",
       "      <th>2</th>\n",
       "      <td>2018-11-30 04:03:04</td>\n",
       "      <td>29.483614</td>\n",
       "      <td>-98.403198</td>\n",
       "      <td>San Antonio</td>\n",
       "      <td>Bexar</td>\n",
       "      <td>TX</td>\n",
       "      <td>78218</td>\n",
       "      <td>November</td>\n",
       "      <td>30</td>\n",
       "      <td>Graveyard</td>\n",
       "    </tr>\n",
       "    <tr>\n",
       "      <th>3</th>\n",
       "      <td>2018-11-30 11:03:46</td>\n",
       "      <td>29.494801</td>\n",
       "      <td>-98.535782</td>\n",
       "      <td>San Antonio</td>\n",
       "      <td>Bexar</td>\n",
       "      <td>TX</td>\n",
       "      <td>78213-3947</td>\n",
       "      <td>November</td>\n",
       "      <td>30</td>\n",
       "      <td>Morning</td>\n",
       "    </tr>\n",
       "    <tr>\n",
       "      <th>4</th>\n",
       "      <td>2018-11-30 11:15:14</td>\n",
       "      <td>29.493256</td>\n",
       "      <td>-98.499268</td>\n",
       "      <td>San Antonio</td>\n",
       "      <td>Bexar</td>\n",
       "      <td>TX</td>\n",
       "      <td>78216-7205</td>\n",
       "      <td>November</td>\n",
       "      <td>30</td>\n",
       "      <td>Morning</td>\n",
       "    </tr>\n",
       "    <tr>\n",
       "      <th>...</th>\n",
       "      <td>...</td>\n",
       "      <td>...</td>\n",
       "      <td>...</td>\n",
       "      <td>...</td>\n",
       "      <td>...</td>\n",
       "      <td>...</td>\n",
       "      <td>...</td>\n",
       "      <td>...</td>\n",
       "      <td>...</td>\n",
       "      <td>...</td>\n",
       "    </tr>\n",
       "    <tr>\n",
       "      <th>6937</th>\n",
       "      <td>2018-02-21 17:17:03</td>\n",
       "      <td>29.514950</td>\n",
       "      <td>-98.553270</td>\n",
       "      <td>San Antonio</td>\n",
       "      <td>Bexar</td>\n",
       "      <td>TX</td>\n",
       "      <td>78230</td>\n",
       "      <td>February</td>\n",
       "      <td>21</td>\n",
       "      <td>Mid Day</td>\n",
       "    </tr>\n",
       "    <tr>\n",
       "      <th>6988</th>\n",
       "      <td>2018-01-10 06:13:06</td>\n",
       "      <td>29.509690</td>\n",
       "      <td>-98.540040</td>\n",
       "      <td>San Antonio</td>\n",
       "      <td>Bexar</td>\n",
       "      <td>TX</td>\n",
       "      <td>78230-5136</td>\n",
       "      <td>January</td>\n",
       "      <td>10</td>\n",
       "      <td>Graveyard</td>\n",
       "    </tr>\n",
       "    <tr>\n",
       "      <th>6998</th>\n",
       "      <td>2018-01-16 08:25:53</td>\n",
       "      <td>29.439430</td>\n",
       "      <td>-98.444350</td>\n",
       "      <td>San Antonio</td>\n",
       "      <td>Bexar</td>\n",
       "      <td>TX</td>\n",
       "      <td>78208</td>\n",
       "      <td>January</td>\n",
       "      <td>16</td>\n",
       "      <td>Morning</td>\n",
       "    </tr>\n",
       "    <tr>\n",
       "      <th>7002</th>\n",
       "      <td>2018-01-16 13:35:36</td>\n",
       "      <td>29.393170</td>\n",
       "      <td>-98.511350</td>\n",
       "      <td>San Antonio</td>\n",
       "      <td>Bexar</td>\n",
       "      <td>TX</td>\n",
       "      <td>78204</td>\n",
       "      <td>January</td>\n",
       "      <td>16</td>\n",
       "      <td>Mid Day</td>\n",
       "    </tr>\n",
       "    <tr>\n",
       "      <th>7015</th>\n",
       "      <td>2018-01-26 12:28:48</td>\n",
       "      <td>29.439750</td>\n",
       "      <td>-98.443610</td>\n",
       "      <td>San Antonio</td>\n",
       "      <td>Bexar</td>\n",
       "      <td>TX</td>\n",
       "      <td>78208</td>\n",
       "      <td>January</td>\n",
       "      <td>26</td>\n",
       "      <td>Morning</td>\n",
       "    </tr>\n",
       "  </tbody>\n",
       "</table>\n",
       "<p>854 rows × 10 columns</p>\n",
       "</div>"
      ],
      "text/plain": [
       "                    Time   Latitude  Longitude         City County State  \\\n",
       "0    2018-11-30 04:04:00  29.354069 -98.400734  San Antonio  Bexar    TX   \n",
       "1    2018-11-30 04:03:22  29.452906 -98.501022  San Antonio  Bexar    TX   \n",
       "2    2018-11-30 04:03:04  29.483614 -98.403198  San Antonio  Bexar    TX   \n",
       "3    2018-11-30 11:03:46  29.494801 -98.535782  San Antonio  Bexar    TX   \n",
       "4    2018-11-30 11:15:14  29.493256 -98.499268  San Antonio  Bexar    TX   \n",
       "...                  ...        ...        ...          ...    ...   ...   \n",
       "6937 2018-02-21 17:17:03  29.514950 -98.553270  San Antonio  Bexar    TX   \n",
       "6988 2018-01-10 06:13:06  29.509690 -98.540040  San Antonio  Bexar    TX   \n",
       "6998 2018-01-16 08:25:53  29.439430 -98.444350  San Antonio  Bexar    TX   \n",
       "7002 2018-01-16 13:35:36  29.393170 -98.511350  San Antonio  Bexar    TX   \n",
       "7015 2018-01-26 12:28:48  29.439750 -98.443610  San Antonio  Bexar    TX   \n",
       "\n",
       "         Zipcode     Month  Day Time of Day in Shifts  \n",
       "0          78222  November   30             Graveyard  \n",
       "1     78212-3329  November   30             Graveyard  \n",
       "2          78218  November   30             Graveyard  \n",
       "3     78213-3947  November   30               Morning  \n",
       "4     78216-7205  November   30               Morning  \n",
       "...          ...       ...  ...                   ...  \n",
       "6937       78230  February   21               Mid Day  \n",
       "6988  78230-5136   January   10             Graveyard  \n",
       "6998       78208   January   16               Morning  \n",
       "7002       78204   January   16               Mid Day  \n",
       "7015       78208   January   26               Morning  \n",
       "\n",
       "[854 rows x 10 columns]"
      ]
     },
     "execution_count": 8,
     "metadata": {},
     "output_type": "execute_result"
    }
   ],
   "source": [
    "sa_df[\"Time of Day in Shifts\"] = pd.cut(sa_df[\"Time\"].dt.hour, bins, labels=group_names, include_lowest=True)\n",
    "sa_df"
   ]
  },
  {
   "cell_type": "markdown",
   "metadata": {},
   "source": [
    "## Created a summary count to determine the when the least and the most traffic accidents occurred in the day\n",
    "\n",
    "The least amount of accidents occurred in the evening (6 pm to midnight), while the most accidents occured in the morning (midnight to 6 am).\n",
    "\n",
    "My analyis is that more accidents may occur in the morning times due to people may be still sleepy, not alert as much, running late to work or school, as well as rushing to and from brunch/lunch.\n",
    "\n",
    "My analysis for the least amount of accidents occurring in the evening due to people not rushing as much to go home, not distracted as much later in the day, they are more alert and observant."
   ]
  },
  {
   "cell_type": "code",
   "execution_count": 9,
   "metadata": {},
   "outputs": [
    {
     "data": {
      "text/plain": [
       "Morning      441\n",
       "Mid Day      215\n",
       "Graveyard    144\n",
       "Evening       54\n",
       "Name: Time of Day in Shifts, dtype: int64"
      ]
     },
     "execution_count": 9,
     "metadata": {},
     "output_type": "execute_result"
    }
   ],
   "source": [
    "sa_df[\"Time of Day in Shifts\"].value_counts()"
   ]
  },
  {
   "cell_type": "code",
   "execution_count": 10,
   "metadata": {},
   "outputs": [
    {
     "data": {
      "text/plain": [
       "Morning      441\n",
       "Mid Day      215\n",
       "Graveyard    144\n",
       "Evening       54\n",
       "Name: Time of Day in Shifts, dtype: int64"
      ]
     },
     "execution_count": 10,
     "metadata": {},
     "output_type": "execute_result"
    }
   ],
   "source": [
    "most_times = sa_df[\"Time of Day in Shifts\"].value_counts()\n",
    "most_times\n",
    "#group_names = [\"Morning\", \"Mid Day\", \"Graveyard\", \"Evening\"]"
   ]
  },
  {
   "cell_type": "markdown",
   "metadata": {},
   "source": [
    "## Filtered and mapped the most and least times of traffic accidents that occurred in a specific month\n",
    "\n",
    "My analysis determined the least amount of traffic accidents occurred in August and the most occurred in the month of October."
   ]
  },
  {
   "cell_type": "code",
   "execution_count": 11,
   "metadata": {
    "scrolled": true
   },
   "outputs": [],
   "source": [
    "grouped_by_month = sa_df.groupby(\"Month\")\n",
    "month_counts = grouped_by_month.count()\n",
    "month_count = month_counts[\"Time\"]"
   ]
  },
  {
   "cell_type": "code",
   "execution_count": 26,
   "metadata": {},
   "outputs": [
    {
     "data": {
      "image/png": "[encoded data removed]",
      "text/plain": [
       "<Figure size 432x288 with 1 Axes>"
      ]
     },
     "metadata": {
      "needs_background": "light"
     },
     "output_type": "display_data"
    }
   ],
   "source": [
    "x_axis = month_count.index.to_list\n",
    "month_accidents_chart = month_count.plot.barh(x_axis, title=\"Most Accidents in the Month\", color=\"deepskyblue\")\n",
    "month_accidents_chart.set_xlabel(\"Number of Accidents\")\n",
    "plt.savefig(\"Images/month.png\") "
   ]
  },
  {
   "cell_type": "markdown",
   "metadata": {},
   "source": [
    "## Grouped the days of the month into 4 weeks to determine when the most and the least traffic accidents occurred "
   ]
  },
  {
   "cell_type": "code",
   "execution_count": 13,
   "metadata": {},
   "outputs": [],
   "source": [
    "#define bins as 1 to 8, 9 to 16, 17 to 24, 25 to 31\n",
    "bins = [1, 8, 16, 24, 31]"
   ]
  },
  {
   "cell_type": "code",
   "execution_count": 14,
   "metadata": {},
   "outputs": [],
   "source": [
    "#names for the bins\n",
    "group_names = [\"WEEK1\", \"WEEK2\", \"WEEK3\", \"WEEK4\"]"
   ]
  },
  {
   "cell_type": "code",
   "execution_count": 15,
   "metadata": {},
   "outputs": [
    {
     "data": {
      "text/html": [
       "<div>\n",
       "<style scoped>\n",
       "    .dataframe tbody tr th:only-of-type {\n",
       "        vertical-align: middle;\n",
       "    }\n",
       "\n",
       "    .dataframe tbody tr th {\n",
       "        vertical-align: top;\n",
       "    }\n",
       "\n",
       "    .dataframe thead th {\n",
       "        text-align: right;\n",
       "    }\n",
       "</style>\n",
       "<table border=\"1\" class=\"dataframe\">\n",
       "  <thead>\n",
       "    <tr style=\"text-align: right;\">\n",
       "      <th></th>\n",
       "      <th>Time</th>\n",
       "      <th>Latitude</th>\n",
       "      <th>Longitude</th>\n",
       "      <th>City</th>\n",
       "      <th>County</th>\n",
       "      <th>State</th>\n",
       "      <th>Zipcode</th>\n",
       "      <th>Month</th>\n",
       "      <th>Day</th>\n",
       "      <th>Time of Day in Shifts</th>\n",
       "      <th>Week</th>\n",
       "    </tr>\n",
       "  </thead>\n",
       "  <tbody>\n",
       "    <tr>\n",
       "      <th>0</th>\n",
       "      <td>2018-11-30 04:04:00</td>\n",
       "      <td>29.354069</td>\n",
       "      <td>-98.400734</td>\n",
       "      <td>San Antonio</td>\n",
       "      <td>Bexar</td>\n",
       "      <td>TX</td>\n",
       "      <td>78222</td>\n",
       "      <td>November</td>\n",
       "      <td>30</td>\n",
       "      <td>Graveyard</td>\n",
       "      <td>WEEK4</td>\n",
       "    </tr>\n",
       "    <tr>\n",
       "      <th>1</th>\n",
       "      <td>2018-11-30 04:03:22</td>\n",
       "      <td>29.452906</td>\n",
       "      <td>-98.501022</td>\n",
       "      <td>San Antonio</td>\n",
       "      <td>Bexar</td>\n",
       "      <td>TX</td>\n",
       "      <td>78212-3329</td>\n",
       "      <td>November</td>\n",
       "      <td>30</td>\n",
       "      <td>Graveyard</td>\n",
       "      <td>WEEK4</td>\n",
       "    </tr>\n",
       "    <tr>\n",
       "      <th>2</th>\n",
       "      <td>2018-11-30 04:03:04</td>\n",
       "      <td>29.483614</td>\n",
       "      <td>-98.403198</td>\n",
       "      <td>San Antonio</td>\n",
       "      <td>Bexar</td>\n",
       "      <td>TX</td>\n",
       "      <td>78218</td>\n",
       "      <td>November</td>\n",
       "      <td>30</td>\n",
       "      <td>Graveyard</td>\n",
       "      <td>WEEK4</td>\n",
       "    </tr>\n",
       "    <tr>\n",
       "      <th>3</th>\n",
       "      <td>2018-11-30 11:03:46</td>\n",
       "      <td>29.494801</td>\n",
       "      <td>-98.535782</td>\n",
       "      <td>San Antonio</td>\n",
       "      <td>Bexar</td>\n",
       "      <td>TX</td>\n",
       "      <td>78213-3947</td>\n",
       "      <td>November</td>\n",
       "      <td>30</td>\n",
       "      <td>Morning</td>\n",
       "      <td>WEEK4</td>\n",
       "    </tr>\n",
       "    <tr>\n",
       "      <th>4</th>\n",
       "      <td>2018-11-30 11:15:14</td>\n",
       "      <td>29.493256</td>\n",
       "      <td>-98.499268</td>\n",
       "      <td>San Antonio</td>\n",
       "      <td>Bexar</td>\n",
       "      <td>TX</td>\n",
       "      <td>78216-7205</td>\n",
       "      <td>November</td>\n",
       "      <td>30</td>\n",
       "      <td>Morning</td>\n",
       "      <td>WEEK4</td>\n",
       "    </tr>\n",
       "    <tr>\n",
       "      <th>...</th>\n",
       "      <td>...</td>\n",
       "      <td>...</td>\n",
       "      <td>...</td>\n",
       "      <td>...</td>\n",
       "      <td>...</td>\n",
       "      <td>...</td>\n",
       "      <td>...</td>\n",
       "      <td>...</td>\n",
       "      <td>...</td>\n",
       "      <td>...</td>\n",
       "      <td>...</td>\n",
       "    </tr>\n",
       "    <tr>\n",
       "      <th>6937</th>\n",
       "      <td>2018-02-21 17:17:03</td>\n",
       "      <td>29.514950</td>\n",
       "      <td>-98.553270</td>\n",
       "      <td>San Antonio</td>\n",
       "      <td>Bexar</td>\n",
       "      <td>TX</td>\n",
       "      <td>78230</td>\n",
       "      <td>February</td>\n",
       "      <td>21</td>\n",
       "      <td>Mid Day</td>\n",
       "      <td>WEEK3</td>\n",
       "    </tr>\n",
       "    <tr>\n",
       "      <th>6988</th>\n",
       "      <td>2018-01-10 06:13:06</td>\n",
       "      <td>29.509690</td>\n",
       "      <td>-98.540040</td>\n",
       "      <td>San Antonio</td>\n",
       "      <td>Bexar</td>\n",
       "      <td>TX</td>\n",
       "      <td>78230-5136</td>\n",
       "      <td>January</td>\n",
       "      <td>10</td>\n",
       "      <td>Graveyard</td>\n",
       "      <td>WEEK2</td>\n",
       "    </tr>\n",
       "    <tr>\n",
       "      <th>6998</th>\n",
       "      <td>2018-01-16 08:25:53</td>\n",
       "      <td>29.439430</td>\n",
       "      <td>-98.444350</td>\n",
       "      <td>San Antonio</td>\n",
       "      <td>Bexar</td>\n",
       "      <td>TX</td>\n",
       "      <td>78208</td>\n",
       "      <td>January</td>\n",
       "      <td>16</td>\n",
       "      <td>Morning</td>\n",
       "      <td>WEEK2</td>\n",
       "    </tr>\n",
       "    <tr>\n",
       "      <th>7002</th>\n",
       "      <td>2018-01-16 13:35:36</td>\n",
       "      <td>29.393170</td>\n",
       "      <td>-98.511350</td>\n",
       "      <td>San Antonio</td>\n",
       "      <td>Bexar</td>\n",
       "      <td>TX</td>\n",
       "      <td>78204</td>\n",
       "      <td>January</td>\n",
       "      <td>16</td>\n",
       "      <td>Mid Day</td>\n",
       "      <td>WEEK2</td>\n",
       "    </tr>\n",
       "    <tr>\n",
       "      <th>7015</th>\n",
       "      <td>2018-01-26 12:28:48</td>\n",
       "      <td>29.439750</td>\n",
       "      <td>-98.443610</td>\n",
       "      <td>San Antonio</td>\n",
       "      <td>Bexar</td>\n",
       "      <td>TX</td>\n",
       "      <td>78208</td>\n",
       "      <td>January</td>\n",
       "      <td>26</td>\n",
       "      <td>Morning</td>\n",
       "      <td>WEEK4</td>\n",
       "    </tr>\n",
       "  </tbody>\n",
       "</table>\n",
       "<p>854 rows × 11 columns</p>\n",
       "</div>"
      ],
      "text/plain": [
       "                    Time   Latitude  Longitude         City County State  \\\n",
       "0    2018-11-30 04:04:00  29.354069 -98.400734  San Antonio  Bexar    TX   \n",
       "1    2018-11-30 04:03:22  29.452906 -98.501022  San Antonio  Bexar    TX   \n",
       "2    2018-11-30 04:03:04  29.483614 -98.403198  San Antonio  Bexar    TX   \n",
       "3    2018-11-30 11:03:46  29.494801 -98.535782  San Antonio  Bexar    TX   \n",
       "4    2018-11-30 11:15:14  29.493256 -98.499268  San Antonio  Bexar    TX   \n",
       "...                  ...        ...        ...          ...    ...   ...   \n",
       "6937 2018-02-21 17:17:03  29.514950 -98.553270  San Antonio  Bexar    TX   \n",
       "6988 2018-01-10 06:13:06  29.509690 -98.540040  San Antonio  Bexar    TX   \n",
       "6998 2018-01-16 08:25:53  29.439430 -98.444350  San Antonio  Bexar    TX   \n",
       "7002 2018-01-16 13:35:36  29.393170 -98.511350  San Antonio  Bexar    TX   \n",
       "7015 2018-01-26 12:28:48  29.439750 -98.443610  San Antonio  Bexar    TX   \n",
       "\n",
       "         Zipcode     Month  Day Time of Day in Shifts   Week  \n",
       "0          78222  November   30             Graveyard  WEEK4  \n",
       "1     78212-3329  November   30             Graveyard  WEEK4  \n",
       "2          78218  November   30             Graveyard  WEEK4  \n",
       "3     78213-3947  November   30               Morning  WEEK4  \n",
       "4     78216-7205  November   30               Morning  WEEK4  \n",
       "...          ...       ...  ...                   ...    ...  \n",
       "6937       78230  February   21               Mid Day  WEEK3  \n",
       "6988  78230-5136   January   10             Graveyard  WEEK2  \n",
       "6998       78208   January   16               Morning  WEEK2  \n",
       "7002       78204   January   16               Mid Day  WEEK2  \n",
       "7015       78208   January   26               Morning  WEEK4  \n",
       "\n",
       "[854 rows x 11 columns]"
      ]
     },
     "execution_count": 15,
     "metadata": {},
     "output_type": "execute_result"
    }
   ],
   "source": [
    "sa_df[\"Week\"] = pd.cut(sa_df[\"Day\"], bins, labels=group_names, include_lowest=True)\n",
    "sa_df"
   ]
  },
  {
   "cell_type": "markdown",
   "metadata": {},
   "source": [
    "## Filtered the weeks into a count to determine which week of the month did the most and least amount of traffic accidents occur\n",
    "\n",
    "My analysis concluded the week 4 of the month (the last) had the least amount of accidents, while the most occurred in the second week of the month."
   ]
  },
  {
   "cell_type": "code",
   "execution_count": 16,
   "metadata": {
    "scrolled": true
   },
   "outputs": [
    {
     "data": {
      "text/plain": [
       "Week\n",
       "WEEK1    229\n",
       "WEEK2    307\n",
       "WEEK3    229\n",
       "WEEK4     89\n",
       "Name: Time, dtype: int64"
      ]
     },
     "execution_count": 16,
     "metadata": {},
     "output_type": "execute_result"
    }
   ],
   "source": [
    "grouped_by_day_of_month = sa_df.groupby(\"Week\")\n",
    "day_counts = grouped_by_day_of_month.count()\n",
    "day_counts[\"Time\"]"
   ]
  },
  {
   "cell_type": "code",
   "execution_count": 17,
   "metadata": {},
   "outputs": [
    {
     "data": {
      "text/plain": [
       "Week\n",
       "WEEK1    229\n",
       "WEEK2    307\n",
       "WEEK3    229\n",
       "WEEK4     89\n",
       "Name: Time, dtype: int64"
      ]
     },
     "execution_count": 17,
     "metadata": {},
     "output_type": "execute_result"
    }
   ],
   "source": [
    "most_qtr = day_counts[\"Time\"]\n",
    "most_qtr"
   ]
  },
  {
   "cell_type": "code",
   "execution_count": 18,
   "metadata": {},
   "outputs": [
    {
     "data": {
      "text/plain": [
       "Time                     854\n",
       "Latitude                 854\n",
       "Longitude                854\n",
       "City                     854\n",
       "County                   854\n",
       "State                    854\n",
       "Zipcode                  854\n",
       "Month                    854\n",
       "Day                      854\n",
       "Time of Day in Shifts    854\n",
       "Week                     854\n",
       "dtype: int64"
      ]
     },
     "execution_count": 18,
     "metadata": {},
     "output_type": "execute_result"
    }
   ],
   "source": [
    "sa_df.count()"
   ]
  },
  {
   "cell_type": "code",
   "execution_count": 19,
   "metadata": {},
   "outputs": [
    {
     "data": {
      "text/plain": [
       "2018-05-04 17:43:29    3\n",
       "2018-10-19 06:20:13    3\n",
       "2018-12-07 05:48:14    2\n",
       "2018-07-09 06:07:41    2\n",
       "2018-10-31 18:57:38    2\n",
       "Name: Time, dtype: int64"
      ]
     },
     "execution_count": 19,
     "metadata": {},
     "output_type": "execute_result"
    }
   ],
   "source": [
    "sa_counts = sa_df[\"Time\"].value_counts()\n",
    "sa_counts.head()"
   ]
  },
  {
   "cell_type": "code",
   "execution_count": 20,
   "metadata": {},
   "outputs": [
    {
     "data": {
      "text/plain": [
       "Time\n",
       "2018-01-10 06:09:26    1\n",
       "2018-01-10 06:13:06    1\n",
       "2018-01-10 06:14:28    1\n",
       "2018-01-16 06:28:10    1\n",
       "2018-01-16 06:28:55    1\n",
       "                      ..\n",
       "2018-12-19 07:28:13    1\n",
       "2018-12-19 07:28:38    1\n",
       "2018-12-19 07:51:42    1\n",
       "2018-12-26 11:01:24    1\n",
       "2018-12-26 13:19:09    1\n",
       "Name: Time, Length: 842, dtype: int64"
      ]
     },
     "execution_count": 20,
     "metadata": {},
     "output_type": "execute_result"
    }
   ],
   "source": [
    "sa_df = texas_accidents_df.loc[texas_accidents_df['City']=='San Antonio']\n",
    "sa_time1 = sa_df.groupby('Time')\n",
    "sa_time = sa_time1['Time'].count()\n",
    "sa_time"
   ]
  },
  {
   "cell_type": "code",
   "execution_count": 21,
   "metadata": {
    "scrolled": false
   },
   "outputs": [
    {
     "data": {
      "text/plain": [
       "<bound method IndexOpsMixin.tolist of Index(['2018-01-10 06:09:26', '2018-01-10 06:13:06', '2018-01-10 06:14:28',\n",
       "       '2018-01-16 06:28:10', '2018-01-16 06:28:55', '2018-01-16 06:42:31',\n",
       "       '2018-01-16 07:13:24', '2018-01-16 07:26:45', '2018-01-16 08:03:20',\n",
       "       '2018-01-16 08:10:30',\n",
       "       ...\n",
       "       '2018-12-19 05:21:51', '2018-12-19 06:02:09', '2018-12-19 06:09:13',\n",
       "       '2018-12-19 06:18:01', '2018-12-19 06:22:34', '2018-12-19 07:28:13',\n",
       "       '2018-12-19 07:28:38', '2018-12-19 07:51:42', '2018-12-26 11:01:24',\n",
       "       '2018-12-26 13:19:09'],\n",
       "      dtype='object', name='Time', length=842)>"
      ]
     },
     "execution_count": 21,
     "metadata": {},
     "output_type": "execute_result"
    }
   ],
   "source": [
    "x_axis = sa_time.index.to_list\n",
    "x_axis"
   ]
  },
  {
   "cell_type": "markdown",
   "metadata": {},
   "source": [
    "## Which time of day did the most and the least amount of accidents occur in San Antonio in 2018?\n",
    "\n",
    "My analysis determined the evening shift (6 pm to midnight) had the least amount of accidents as opposed to the morning (6 am to noon), which had the most amount of accidents."
   ]
  },
  {
   "cell_type": "code",
   "execution_count": 25,
   "metadata": {
    "scrolled": true
   },
   "outputs": [
    {
     "data": {
      "image/png": "[encoded data removed]",
      "text/plain": [
       "<Figure size 432x288 with 1 Axes>"
      ]
     },
     "metadata": {
      "needs_background": "light"
     },
     "output_type": "display_data"
    }
   ],
   "source": [
    "most_times.index.name = 'Time of Day Shifts in 2018'\n",
    "most_times.plot.barh(x=x_axis, title=\"Most Accidents Time of Day in 2018\", color=\"deepskyblue\")\n",
    "plt.xlabel(\"Number of Accidents\")\n",
    "#save chart\n",
    "plt.savefig(\"Images/times of day.png\") "
   ]
  },
  {
   "cell_type": "markdown",
   "metadata": {},
   "source": [
    "## In which week in the the month did the most traffic accidents occur\n",
    "\n",
    "My analysis concluded the week 4 of the month (the last) had the least amount of accidents, while the most occurred in the second week of the month."
   ]
  },
  {
   "cell_type": "code",
   "execution_count": 24,
   "metadata": {},
   "outputs": [
    {
     "data": {
      "image/png": "[encoded data removed]",
      "text/plain": [
       "<Figure size 432x288 with 1 Axes>"
      ]
     },
     "metadata": {
      "needs_background": "light"
     },
     "output_type": "display_data"
    }
   ],
   "source": [
    "most_qtr.index.name = 'Week of the Month in 2018'\n",
    "most_qtr.plot.barh(x=x_axis, title=\"Weekly Accidents in 2018\", color=\"deepskyblue\")\n",
    "plt.xlabel(\"Number of Accidents\")\n",
    "#save chart\n",
    "plt.savefig(\"Images/number of accidents.png\")"
   ]
  }
 ],
 "metadata": {
  "kernelspec": {
   "display_name": "PythonData",
   "language": "python",
   "name": "pythondata"
  },
  "language_info": {
   "codemirror_mode": {
    "name": "ipython",
    "version": 3
   },
   "file_extension": ".py",
   "mimetype": "text/x-python",
   "name": "python",
   "nbconvert_exporter": "python",
   "pygments_lexer": "ipython3",
   "version": "3.6.10"
  }
 },
 "nbformat": 4,
 "nbformat_minor": 4
}
